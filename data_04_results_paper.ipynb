{
  "nbformat": 4,
  "nbformat_minor": 0,
  "metadata": {
    "colab": {
      "provenance": [],
      "authorship_tag": "ABX9TyNz3zgq6ospU/jq2M/rClBY",
      "include_colab_link": true
    },
    "kernelspec": {
      "name": "python3",
      "display_name": "Python 3"
    },
    "language_info": {
      "name": "python"
    }
  },
  "cells": [
    {
      "cell_type": "markdown",
      "metadata": {
        "id": "view-in-github",
        "colab_type": "text"
      },
      "source": [
        "<a href=\"https://colab.research.google.com/github/gonzalezcortes/NLP_with_ClimateBert/blob/main/data_04_results_paper.ipynb\" target=\"_parent\"><img src=\"https://colab.research.google.com/assets/colab-badge.svg\" alt=\"Open In Colab\"/></a>"
      ]
    },
    {
      "cell_type": "code",
      "execution_count": 1,
      "metadata": {
        "id": "Nwk1opANxEx2"
      },
      "outputs": [],
      "source": [
        "import numpy as np\n",
        "import pandas as pd\n",
        "import time\n",
        "import matplotlib.pyplot as plt\n",
        "import seaborn as sns\n",
        "sns.set_theme(style=\"darkgrid\")"
      ]
    },
    {
      "cell_type": "code",
      "source": [
        "from google.colab import data_table\n",
        "data_table.enable_dataframe_formatter()"
      ],
      "metadata": {
        "id": "0gSH8yHP-k44"
      },
      "execution_count": 2,
      "outputs": []
    },
    {
      "cell_type": "code",
      "source": [
        "from google.colab import drive\n",
        "drive.mount('/content/drive')"
      ],
      "metadata": {
        "colab": {
          "base_uri": "https://localhost:8080/"
        },
        "id": "ZtufvmldxMKl",
        "outputId": "61735b07-8125-41fb-f342-01d79dceeb8f"
      },
      "execution_count": 3,
      "outputs": [
        {
          "output_type": "stream",
          "name": "stdout",
          "text": [
            "Drive already mounted at /content/drive; to attempt to forcibly remount, call drive.mount(\"/content/drive\", force_remount=True).\n"
          ]
        }
      ]
    },
    {
      "cell_type": "code",
      "source": [
        "directory = '/content/drive/My Drive/Research Papers/Climate_2022/'"
      ],
      "metadata": {
        "id": "sPl3tbG7xMmf"
      },
      "execution_count": 4,
      "outputs": []
    },
    {
      "cell_type": "code",
      "source": [
        "data = pd.read_csv(directory+'detailed_results_12_05_2022-12_46_33.csv')"
      ],
      "metadata": {
        "id": "ZN4nKRFIxrhx"
      },
      "execution_count": 5,
      "outputs": []
    },
    {
      "cell_type": "code",
      "source": [
        "data.head()"
      ],
      "metadata": {
        "colab": {
          "base_uri": "https://localhost:8080/",
          "height": 200
        },
        "id": "tnE6Bu0cyMpt",
        "outputId": "3a73a906-14c5-4a1e-8962-0fb3a7d9c235"
      },
      "execution_count": 6,
      "outputs": [
        {
          "output_type": "execute_result",
          "data": {
            "text/plain": [
              "   Company      2019      2020      2021\n",
              "0       3i  0.094903  0.126298  0.098226\n",
              "1      abf  0.215622  0.229207  0.298822\n",
              "2    abrdn  0.185379  0.302198  0.205526\n",
              "3  admiral  0.095361  0.126183  0.110902\n",
              "4    anglo  0.132840  0.161278  0.177100"
            ],
            "text/html": [
              "\n",
              "  <div id=\"df-48b8eeaf-a4b0-414a-9487-ccd0c023e022\">\n",
              "    <div class=\"colab-df-container\">\n",
              "      <div>\n",
              "<style scoped>\n",
              "    .dataframe tbody tr th:only-of-type {\n",
              "        vertical-align: middle;\n",
              "    }\n",
              "\n",
              "    .dataframe tbody tr th {\n",
              "        vertical-align: top;\n",
              "    }\n",
              "\n",
              "    .dataframe thead th {\n",
              "        text-align: right;\n",
              "    }\n",
              "</style>\n",
              "<table border=\"1\" class=\"dataframe\">\n",
              "  <thead>\n",
              "    <tr style=\"text-align: right;\">\n",
              "      <th></th>\n",
              "      <th>Company</th>\n",
              "      <th>2019</th>\n",
              "      <th>2020</th>\n",
              "      <th>2021</th>\n",
              "    </tr>\n",
              "  </thead>\n",
              "  <tbody>\n",
              "    <tr>\n",
              "      <th>0</th>\n",
              "      <td>3i</td>\n",
              "      <td>0.094903</td>\n",
              "      <td>0.126298</td>\n",
              "      <td>0.098226</td>\n",
              "    </tr>\n",
              "    <tr>\n",
              "      <th>1</th>\n",
              "      <td>abf</td>\n",
              "      <td>0.215622</td>\n",
              "      <td>0.229207</td>\n",
              "      <td>0.298822</td>\n",
              "    </tr>\n",
              "    <tr>\n",
              "      <th>2</th>\n",
              "      <td>abrdn</td>\n",
              "      <td>0.185379</td>\n",
              "      <td>0.302198</td>\n",
              "      <td>0.205526</td>\n",
              "    </tr>\n",
              "    <tr>\n",
              "      <th>3</th>\n",
              "      <td>admiral</td>\n",
              "      <td>0.095361</td>\n",
              "      <td>0.126183</td>\n",
              "      <td>0.110902</td>\n",
              "    </tr>\n",
              "    <tr>\n",
              "      <th>4</th>\n",
              "      <td>anglo</td>\n",
              "      <td>0.132840</td>\n",
              "      <td>0.161278</td>\n",
              "      <td>0.177100</td>\n",
              "    </tr>\n",
              "  </tbody>\n",
              "</table>\n",
              "</div>\n",
              "      <button class=\"colab-df-convert\" onclick=\"convertToInteractive('df-48b8eeaf-a4b0-414a-9487-ccd0c023e022')\"\n",
              "              title=\"Convert this dataframe to an interactive table.\"\n",
              "              style=\"display:none;\">\n",
              "        \n",
              "  <svg xmlns=\"http://www.w3.org/2000/svg\" height=\"24px\"viewBox=\"0 0 24 24\"\n",
              "       width=\"24px\">\n",
              "    <path d=\"M0 0h24v24H0V0z\" fill=\"none\"/>\n",
              "    <path d=\"M18.56 5.44l.94 2.06.94-2.06 2.06-.94-2.06-.94-.94-2.06-.94 2.06-2.06.94zm-11 1L8.5 8.5l.94-2.06 2.06-.94-2.06-.94L8.5 2.5l-.94 2.06-2.06.94zm10 10l.94 2.06.94-2.06 2.06-.94-2.06-.94-.94-2.06-.94 2.06-2.06.94z\"/><path d=\"M17.41 7.96l-1.37-1.37c-.4-.4-.92-.59-1.43-.59-.52 0-1.04.2-1.43.59L10.3 9.45l-7.72 7.72c-.78.78-.78 2.05 0 2.83L4 21.41c.39.39.9.59 1.41.59.51 0 1.02-.2 1.41-.59l7.78-7.78 2.81-2.81c.8-.78.8-2.07 0-2.86zM5.41 20L4 18.59l7.72-7.72 1.47 1.35L5.41 20z\"/>\n",
              "  </svg>\n",
              "      </button>\n",
              "      \n",
              "  <style>\n",
              "    .colab-df-container {\n",
              "      display:flex;\n",
              "      flex-wrap:wrap;\n",
              "      gap: 12px;\n",
              "    }\n",
              "\n",
              "    .colab-df-convert {\n",
              "      background-color: #E8F0FE;\n",
              "      border: none;\n",
              "      border-radius: 50%;\n",
              "      cursor: pointer;\n",
              "      display: none;\n",
              "      fill: #1967D2;\n",
              "      height: 32px;\n",
              "      padding: 0 0 0 0;\n",
              "      width: 32px;\n",
              "    }\n",
              "\n",
              "    .colab-df-convert:hover {\n",
              "      background-color: #E2EBFA;\n",
              "      box-shadow: 0px 1px 2px rgba(60, 64, 67, 0.3), 0px 1px 3px 1px rgba(60, 64, 67, 0.15);\n",
              "      fill: #174EA6;\n",
              "    }\n",
              "\n",
              "    [theme=dark] .colab-df-convert {\n",
              "      background-color: #3B4455;\n",
              "      fill: #D2E3FC;\n",
              "    }\n",
              "\n",
              "    [theme=dark] .colab-df-convert:hover {\n",
              "      background-color: #434B5C;\n",
              "      box-shadow: 0px 1px 3px 1px rgba(0, 0, 0, 0.15);\n",
              "      filter: drop-shadow(0px 1px 2px rgba(0, 0, 0, 0.3));\n",
              "      fill: #FFFFFF;\n",
              "    }\n",
              "  </style>\n",
              "\n",
              "      <script>\n",
              "        const buttonEl =\n",
              "          document.querySelector('#df-48b8eeaf-a4b0-414a-9487-ccd0c023e022 button.colab-df-convert');\n",
              "        buttonEl.style.display =\n",
              "          google.colab.kernel.accessAllowed ? 'block' : 'none';\n",
              "\n",
              "        async function convertToInteractive(key) {\n",
              "          const element = document.querySelector('#df-48b8eeaf-a4b0-414a-9487-ccd0c023e022');\n",
              "          const dataTable =\n",
              "            await google.colab.kernel.invokeFunction('convertToInteractive',\n",
              "                                                     [key], {});\n",
              "          if (!dataTable) return;\n",
              "\n",
              "          const docLinkHtml = 'Like what you see? Visit the ' +\n",
              "            '<a target=\"_blank\" href=https://colab.research.google.com/notebooks/data_table.ipynb>data table notebook</a>'\n",
              "            + ' to learn more about interactive tables.';\n",
              "          element.innerHTML = '';\n",
              "          dataTable['output_type'] = 'display_data';\n",
              "          await google.colab.output.renderOutput(dataTable, element);\n",
              "          const docLink = document.createElement('div');\n",
              "          docLink.innerHTML = docLinkHtml;\n",
              "          element.appendChild(docLink);\n",
              "        }\n",
              "      </script>\n",
              "    </div>\n",
              "  </div>\n",
              "  "
            ],
            "application/vnd.google.colaboratory.module+javascript": "\n      import \"https://ssl.gstatic.com/colaboratory/data_table/a8bd4d5e58f96183/data_table.js\";\n\n      window.createDataTable({\n        data: [[{\n            'v': 0,\n            'f': \"0\",\n        },\n\"3i\",\n{\n            'v': 0.0949033391915641,\n            'f': \"0.0949033391915641\",\n        },\n{\n            'v': 0.1262975778546712,\n            'f': \"0.1262975778546712\",\n        },\n{\n            'v': 0.0982264665757162,\n            'f': \"0.0982264665757162\",\n        }],\n [{\n            'v': 1,\n            'f': \"1\",\n        },\n\"abf\",\n{\n            'v': 0.2156215621562156,\n            'f': \"0.2156215621562156\",\n        },\n{\n            'v': 0.2292069632495164,\n            'f': \"0.2292069632495164\",\n        },\n{\n            'v': 0.2988215488215488,\n            'f': \"0.2988215488215488\",\n        }],\n [{\n            'v': 2,\n            'f': \"2\",\n        },\n\"abrdn\",\n{\n            'v': 0.185378590078329,\n            'f': \"0.185378590078329\",\n        },\n{\n            'v': 0.3021978021978022,\n            'f': \"0.3021978021978022\",\n        },\n{\n            'v': 0.2055256064690027,\n            'f': \"0.2055256064690027\",\n        }],\n [{\n            'v': 3,\n            'f': \"3\",\n        },\n\"admiral\",\n{\n            'v': 0.095360824742268,\n            'f': \"0.095360824742268\",\n        },\n{\n            'v': 0.1261829652996845,\n            'f': \"0.1261829652996845\",\n        },\n{\n            'v': 0.1109022556390977,\n            'f': \"0.1109022556390977\",\n        }],\n [{\n            'v': 4,\n            'f': \"4\",\n        },\n\"anglo\",\n{\n            'v': 0.1328395061728395,\n            'f': \"0.1328395061728395\",\n        },\n{\n            'v': 0.1612776025236593,\n            'f': \"0.1612776025236593\",\n        },\n{\n            'v': 0.1770998415213946,\n            'f': \"0.1770998415213946\",\n        }]],\n        columns: [[\"number\", \"index\"], [\"string\", \"Company\"], [\"number\", \"2019\"], [\"number\", \"2020\"], [\"number\", \"2021\"]],\n        columnOptions: [{\"width\": \"1px\", \"className\": \"index_column\"}],\n        rowsPerPage: 25,\n        helpUrl: \"https://colab.research.google.com/notebooks/data_table.ipynb\",\n        suppressOutputScrolling: true,\n        minimumWidth: undefined,\n      });\n    "
          },
          "metadata": {},
          "execution_count": 6
        }
      ]
    },
    {
      "cell_type": "code",
      "source": [
        "cop = data['Company'].unique()\n",
        "len(cop)"
      ],
      "metadata": {
        "colab": {
          "base_uri": "https://localhost:8080/"
        },
        "id": "hW79lwcFA7lN",
        "outputId": "88f8fdd3-55a1-4af6-ac63-927a96ed7abb"
      },
      "execution_count": 7,
      "outputs": [
        {
          "output_type": "execute_result",
          "data": {
            "text/plain": [
              "100"
            ]
          },
          "metadata": {},
          "execution_count": 7
        }
      ]
    },
    {
      "cell_type": "code",
      "source": [
        "cop"
      ],
      "metadata": {
        "colab": {
          "base_uri": "https://localhost:8080/"
        },
        "id": "RMQlLk2fhhHw",
        "outputId": "75aa2c90-8d05-4745-9eda-5facb7529d75"
      },
      "execution_count": 8,
      "outputs": [
        {
          "output_type": "execute_result",
          "data": {
            "text/plain": [
              "array(['3i', 'abf', 'abrdn', 'admiral', 'anglo', 'antofagasta', 'ashtead',\n",
              "       'astra', 'auto', 'avast', 'aveva', 'aviva', 'bae', 'barclays',\n",
              "       'barratt', 'bat', 'berkeley', 'bhp', 'bl', 'bnm', 'bp', 'bt',\n",
              "       'bunzl', 'burberry', 'coca', 'compass', 'crh', 'croda', 'dcc',\n",
              "       'dechra', 'diageo', 'electro', 'entain', 'evraz', 'experian',\n",
              "       'ferguson', 'flutter', 'fresnillo', 'glencore', 'gsk', 'halma',\n",
              "       'hikma', 'hl', 'hsbc', 'imperial', 'informa', 'intercontinental',\n",
              "       'intermediate', 'international', 'intertek', 'itv', 'jd',\n",
              "       'kingfisher', 'land', 'lloyds', 'lng', 'lseg', 'meggitt',\n",
              "       'melrose', 'mng', 'mondi', 'national', 'natwest', 'next', 'ocado',\n",
              "       'pearson', 'pershing', 'persimmon', 'phoenix', 'pm', 'prud', 'rds',\n",
              "       'reckitt', 'relx', 'rento', 'rm', 'rmg', 'rolls', 'rt', 'sage',\n",
              "       'sb', 'sc', 'schroders', 'segro', 'sjp', 'sk', 'sm', 'smithds',\n",
              "       'smiths', 'snn', 'ss', 'sse', 'st', 'tesco', 'tw', 'unilever',\n",
              "       'uu', 'vodafone', 'whitbread', 'wpp'], dtype=object)"
            ]
          },
          "metadata": {},
          "execution_count": 8
        }
      ]
    },
    {
      "cell_type": "markdown",
      "source": [
        "Name, FTSE industry"
      ],
      "metadata": {
        "id": "2ywvQqk1w9ug"
      }
    },
    {
      "cell_type": "code",
      "source": [
        "dict_names = {\n",
        "        '3i':['3i Group plc', 'Financials'],\n",
        "        'abf':['Associated British Foods plc','Consumer Staples'],\n",
        "        'abrdn':['Abrdn plc','Financials'],\n",
        "        'admiral':['Admiral group plc','Financials'],\n",
        "        'anglo':['Anglo amercian plc','Basic Materials'],\n",
        "        'antofagasta':['Antofagasta plc','Basic Materials'],\n",
        "        'ashtead':['Ashtead Group plc','Industrials'],\n",
        "        'astra':['AstraZeneca plc','Health Care'], \n",
        "        'auto':['Auto trader group plc','Technology'],\n",
        "        'avast':['Avast plc','Technology'], \n",
        "        'aveva':['Aveva group plc','Technology'], \n",
        "        'aviva':['Aviva plc','Financials'],\n",
        "        'bae':['Bae systems plc','Industrials'],\n",
        "        'barclays':['Barclays plc','Financials'],\n",
        "        'barratt':['Barratt Developments plc','Consumer Discretionary'],\n",
        "        'bat':['British american tobacco plc','Consumer Staples'],\n",
        "        'berkeley':['Berkeley group holdings (the) plc','Consumer Discretionary'],\n",
        "        'bhp':['BHP Group Limited','Basic Materials'],\n",
        "        'bl':['BRITISH LAND COMPANY PLC','Real Estate'],\n",
        "        'bnm':['B&M EUROPEAN VALUE RETAIL S.A.','Consumer Discretionary'],\n",
        "        'bp':['BP PLC','Energy'],\n",
        "        'bt':['BT Group plc','Telecommunications'],\n",
        "        'bunzl':['BUNZL PLC','Industrials'],\n",
        "        'burberry':['BURBERRY GROUP PLC','Consumer Discretionary'],\n",
        "        'coca':['Coca-Cola HBC AG','Consumer Staples'],\n",
        "        'compass':['COMPASS GROUP PLC','Consumer Discretionary'],\n",
        "        'crh':['CRH PLC','Industrials'],\n",
        "        'croda':['Croda International Plc','Basic Materials'],\n",
        "        'dcc':['DCC Plc','Industrials'],\n",
        "        'dechra':['DECHRA PHARMACEUTICALS PLC','Health Care'], \n",
        "        'diageo':['DIAGEO PLC','Consumer Staples'],\n",
        "        'electro':['RS Group plc','Industrials'],\n",
        "        'entain':['Entain Plc','Consumer Discretionary'],\n",
        "        'evraz':['EVRAZ PLC','Basic Materials'],\n",
        "        'experian':['Experian plc','Industrials'],\n",
        "        'ferguson':['FERGUSON PLC','Industrials'],\n",
        "        'flutter':['FLUTTER ENTERTAINMENT PLC','Consumer Discretionary'],\n",
        "        'fresnillo':['Fresnillo Plc','Basic Materials'],\n",
        "        'glencore':['Glencore PLC','Basic Materials'],\n",
        "        'gsk':['GSK PLC','Health Care'],\n",
        "        'halma':['HALMA PLC','Industrials'],\n",
        "        'hikma':['Hikma Pharmaceuticals Plc','Health Care'],\n",
        "        'hl':['Hargreaves Lansdown Plc','Financials'],\n",
        "        'hsbc':['HSBC Holdings Plc','Financials'],\n",
        "        'imperial':['IMPERIAL BRANDS PLC','Consumer Staples'],\n",
        "        'informa':['Informa Plc','Consumer Discretionary'],\n",
        "        'intercontinental':['INTERCONTINENTAL HOTELS GROUP PLC','Consumer Discretionary'],\n",
        "        'intermediate':['Intermediate Capital Group Plc','Financials'],\n",
        "        'international':['INTERNATIONAL CONSOLIDATED AIRLINES GROUP S.A.','Consumer Discretionary'],\n",
        "        'intertek':['INTERTEK GROUP PLC','Industrials'],\n",
        "        'itv':['ITV PLC','Consumer Discretionary'],\n",
        "        'jd':['JD SPORTS FASHION PLC','Consumer Discretionary'],\n",
        "        'kingfisher':['Kingfisher plc','Consumer Discretionary'],\n",
        "        'land':['LAND SECURITIES GROUP PLC','Real Estate'],\n",
        "        'lloyds':['Lloyds Banking Group Plc','Financials'],\n",
        "        'lng':['Legal & General Group PLC','Financials'],\n",
        "        'lseg':['London Stock Exchange Group Plc','Financials'],\n",
        "        'meggitt':['Meggitt PLC ','Industrials'],\n",
        "        'melrose':['MELROSE INDUSTRIES PLC','Industrials'],\n",
        "        'mng':['M&G plc','Financials'],\n",
        "        'mondi':['MONDI PLC','Industrials'],\n",
        "        'national':['National Grid plc','Utilities'],\n",
        "        'natwest':['NatWest Group plc','Financials'],\n",
        "        'next':['Next Plc','Consumer Discretionary'],\n",
        "        'ocado':['Ocado Group Plc','Consumer Staples'],\n",
        "        'pearson':['PEARSON PLC','Consumer Discretionary'],\n",
        "        'pershing':['Pershing Square Holdings Ltd','Financials'],\n",
        "        'persimmon':['PERSIMMON PLC','Consumer Discretionary'],\n",
        "        'phoenix':['Phoenix Group Holdings','Financials'],\n",
        "        'pm':['Polymetal International Plc','Basic Materials'],\n",
        "        'prud':['Prudential Plc','Financials'],\n",
        "        'rds':['Shell Plc','Energy'],\n",
        "        'reckitt':['Reckitt Benckiser Group Plc','Consumer Staples'],\n",
        "        'relx':['RELX PLC','Consumer Discretionary'],\n",
        "        'rento':['RENTOKIL INITIAL PLC','Industrials'],\n",
        "        'rm':['RIGHTMOVE PLC','Real Estate'],\n",
        "        'rmg':['INTERNATIONAL DISTRIBUTIONS SERVICES PLC','Industrials'],\n",
        "        'rolls':['Rolls-Royce Holdings Plc','Industrials'],\n",
        "        'rt':['Rio Tinto Plc','Basic Materials'],\n",
        "        'sage':['Sage Group Plc (The)','Technology'],\n",
        "        'sb':['J Sainsbury PLC','Consumer Staples'], \n",
        "        'sc':['STANDARD CHARTERED PLC','Financials'],\n",
        "        'schroders':['SCHRODERS PLC','Financials'],\n",
        "        'segro':['Segro PLC (REIT)','Real Estate'],\n",
        "        'sjp':['ST. JAMES´S PLACE PLC','Financials'],\n",
        "        'sk':['SMURFIT KAPPA GROUP PLC','Industrials'],\n",
        "        'sm':['SCOTTISH MORTGAGE INVESTMENT TRUST PLC','Financials'],\n",
        "        'smithds':['DS Smith Plc','Industrials'],\n",
        "        'smiths':['Smiths Group Plc','Industrials'],\n",
        "        'snn':['SMITH & NEPHEW PLC','Health Care'],\n",
        "        'ss':['SPIRAX-SARCO ENGINEERING PLC','Industrials'],\n",
        "        'sse':['SSE PLC','Utilities'],\n",
        "        'st':['Severn Trent Plc','Utilities'],\n",
        "        'tesco':['Tesco PLC','Consumer Staples'],\n",
        "        'tw':['TAYLOR WIMPEY PLC','Consumer Discretionary'],\n",
        "        'unilever':['Unilever Plc','Consumer Staples'],\n",
        "        'uu':['United Utilities Group Plc','Utilities'],\n",
        "        'vodafone':['Vodafone Group Plc','Telecommunications'],\n",
        "        'whitbread':['Whitbread Plc','Consumer Discretionary'],\n",
        "        'wpp':['WPP PLC','Consumer Discretionary']}"
      ],
      "metadata": {
        "id": "Zscz2Oomuhiw"
      },
      "execution_count": 9,
      "outputs": []
    },
    {
      "cell_type": "code",
      "source": [
        "years = ['2019','2020','2021']"
      ],
      "metadata": {
        "id": "kTfKxp0UAJFD"
      },
      "execution_count": 10,
      "outputs": []
    },
    {
      "cell_type": "code",
      "source": [
        "data['change'] = ((data['2021']-data['2019'])/data['2019'])*100"
      ],
      "metadata": {
        "id": "bo-YQNuy_iAw"
      },
      "execution_count": 11,
      "outputs": []
    },
    {
      "cell_type": "code",
      "source": [
        "data['Company_name'] = data['Company'].map(lambda x: dict_names[x][0].lower())\n",
        "data['FTSE industry'] = data['Company'].map(lambda x: dict_names[x][1].lower())"
      ],
      "metadata": {
        "id": "3y2mOH3FGU85"
      },
      "execution_count": 12,
      "outputs": []
    },
    {
      "cell_type": "code",
      "source": [
        "data = data[['Company', 'Company_name', 'FTSE industry', '2019', '2020', '2021', 'change']]\n",
        "data.round(4)"
      ],
      "metadata": {
        "colab": {
          "base_uri": "https://localhost:8080/",
          "height": 637
        },
        "id": "zkRjJjBhLzQI",
        "outputId": "d5799342-3432-44d1-992c-bcdd32ef4bdd"
      },
      "execution_count": 13,
      "outputs": [
        {
          "output_type": "execute_result",
          "data": {
            "text/plain": [
              "      Company                  Company_name           FTSE industry    2019  \\\n",
              "0          3i                  3i group plc              financials  0.0949   \n",
              "1         abf  associated british foods plc        consumer staples  0.2156   \n",
              "2       abrdn                     abrdn plc              financials  0.1854   \n",
              "3     admiral             admiral group plc              financials  0.0954   \n",
              "4       anglo            anglo amercian plc         basic materials  0.1328   \n",
              "..        ...                           ...                     ...     ...   \n",
              "95   unilever                  unilever plc        consumer staples  0.0566   \n",
              "96         uu    united utilities group plc               utilities  0.0285   \n",
              "97   vodafone            vodafone group plc      telecommunications  0.0127   \n",
              "98  whitbread                 whitbread plc  consumer discretionary  0.0284   \n",
              "99        wpp                       wpp plc  consumer discretionary  0.0249   \n",
              "\n",
              "      2020    2021   change  \n",
              "0   0.1263  0.0982   3.5016  \n",
              "1   0.2292  0.2988  38.5861  \n",
              "2   0.3022  0.2055  10.8680  \n",
              "3   0.1262  0.1109  16.2975  \n",
              "4   0.1613  0.1771  33.3187  \n",
              "..     ...     ...      ...  \n",
              "95  0.0646  0.0714  26.2472  \n",
              "96  0.0373  0.0477  67.5030  \n",
              "97  0.0140  0.0194  53.0586  \n",
              "98  0.0272  0.0246 -13.2301  \n",
              "99  0.0362  0.0469  88.1657  \n",
              "\n",
              "[100 rows x 7 columns]"
            ],
            "text/html": [
              "\n",
              "  <div id=\"df-759fde16-868a-4904-b987-9c8560f700a5\">\n",
              "    <div class=\"colab-df-container\">\n",
              "      <div>\n",
              "<style scoped>\n",
              "    .dataframe tbody tr th:only-of-type {\n",
              "        vertical-align: middle;\n",
              "    }\n",
              "\n",
              "    .dataframe tbody tr th {\n",
              "        vertical-align: top;\n",
              "    }\n",
              "\n",
              "    .dataframe thead th {\n",
              "        text-align: right;\n",
              "    }\n",
              "</style>\n",
              "<table border=\"1\" class=\"dataframe\">\n",
              "  <thead>\n",
              "    <tr style=\"text-align: right;\">\n",
              "      <th></th>\n",
              "      <th>Company</th>\n",
              "      <th>Company_name</th>\n",
              "      <th>FTSE industry</th>\n",
              "      <th>2019</th>\n",
              "      <th>2020</th>\n",
              "      <th>2021</th>\n",
              "      <th>change</th>\n",
              "    </tr>\n",
              "  </thead>\n",
              "  <tbody>\n",
              "    <tr>\n",
              "      <th>0</th>\n",
              "      <td>3i</td>\n",
              "      <td>3i group plc</td>\n",
              "      <td>financials</td>\n",
              "      <td>0.0949</td>\n",
              "      <td>0.1263</td>\n",
              "      <td>0.0982</td>\n",
              "      <td>3.5016</td>\n",
              "    </tr>\n",
              "    <tr>\n",
              "      <th>1</th>\n",
              "      <td>abf</td>\n",
              "      <td>associated british foods plc</td>\n",
              "      <td>consumer staples</td>\n",
              "      <td>0.2156</td>\n",
              "      <td>0.2292</td>\n",
              "      <td>0.2988</td>\n",
              "      <td>38.5861</td>\n",
              "    </tr>\n",
              "    <tr>\n",
              "      <th>2</th>\n",
              "      <td>abrdn</td>\n",
              "      <td>abrdn plc</td>\n",
              "      <td>financials</td>\n",
              "      <td>0.1854</td>\n",
              "      <td>0.3022</td>\n",
              "      <td>0.2055</td>\n",
              "      <td>10.8680</td>\n",
              "    </tr>\n",
              "    <tr>\n",
              "      <th>3</th>\n",
              "      <td>admiral</td>\n",
              "      <td>admiral group plc</td>\n",
              "      <td>financials</td>\n",
              "      <td>0.0954</td>\n",
              "      <td>0.1262</td>\n",
              "      <td>0.1109</td>\n",
              "      <td>16.2975</td>\n",
              "    </tr>\n",
              "    <tr>\n",
              "      <th>4</th>\n",
              "      <td>anglo</td>\n",
              "      <td>anglo amercian plc</td>\n",
              "      <td>basic materials</td>\n",
              "      <td>0.1328</td>\n",
              "      <td>0.1613</td>\n",
              "      <td>0.1771</td>\n",
              "      <td>33.3187</td>\n",
              "    </tr>\n",
              "    <tr>\n",
              "      <th>...</th>\n",
              "      <td>...</td>\n",
              "      <td>...</td>\n",
              "      <td>...</td>\n",
              "      <td>...</td>\n",
              "      <td>...</td>\n",
              "      <td>...</td>\n",
              "      <td>...</td>\n",
              "    </tr>\n",
              "    <tr>\n",
              "      <th>95</th>\n",
              "      <td>unilever</td>\n",
              "      <td>unilever plc</td>\n",
              "      <td>consumer staples</td>\n",
              "      <td>0.0566</td>\n",
              "      <td>0.0646</td>\n",
              "      <td>0.0714</td>\n",
              "      <td>26.2472</td>\n",
              "    </tr>\n",
              "    <tr>\n",
              "      <th>96</th>\n",
              "      <td>uu</td>\n",
              "      <td>united utilities group plc</td>\n",
              "      <td>utilities</td>\n",
              "      <td>0.0285</td>\n",
              "      <td>0.0373</td>\n",
              "      <td>0.0477</td>\n",
              "      <td>67.5030</td>\n",
              "    </tr>\n",
              "    <tr>\n",
              "      <th>97</th>\n",
              "      <td>vodafone</td>\n",
              "      <td>vodafone group plc</td>\n",
              "      <td>telecommunications</td>\n",
              "      <td>0.0127</td>\n",
              "      <td>0.0140</td>\n",
              "      <td>0.0194</td>\n",
              "      <td>53.0586</td>\n",
              "    </tr>\n",
              "    <tr>\n",
              "      <th>98</th>\n",
              "      <td>whitbread</td>\n",
              "      <td>whitbread plc</td>\n",
              "      <td>consumer discretionary</td>\n",
              "      <td>0.0284</td>\n",
              "      <td>0.0272</td>\n",
              "      <td>0.0246</td>\n",
              "      <td>-13.2301</td>\n",
              "    </tr>\n",
              "    <tr>\n",
              "      <th>99</th>\n",
              "      <td>wpp</td>\n",
              "      <td>wpp plc</td>\n",
              "      <td>consumer discretionary</td>\n",
              "      <td>0.0249</td>\n",
              "      <td>0.0362</td>\n",
              "      <td>0.0469</td>\n",
              "      <td>88.1657</td>\n",
              "    </tr>\n",
              "  </tbody>\n",
              "</table>\n",
              "<p>100 rows × 7 columns</p>\n",
              "</div>\n",
              "      <button class=\"colab-df-convert\" onclick=\"convertToInteractive('df-759fde16-868a-4904-b987-9c8560f700a5')\"\n",
              "              title=\"Convert this dataframe to an interactive table.\"\n",
              "              style=\"display:none;\">\n",
              "        \n",
              "  <svg xmlns=\"http://www.w3.org/2000/svg\" height=\"24px\"viewBox=\"0 0 24 24\"\n",
              "       width=\"24px\">\n",
              "    <path d=\"M0 0h24v24H0V0z\" fill=\"none\"/>\n",
              "    <path d=\"M18.56 5.44l.94 2.06.94-2.06 2.06-.94-2.06-.94-.94-2.06-.94 2.06-2.06.94zm-11 1L8.5 8.5l.94-2.06 2.06-.94-2.06-.94L8.5 2.5l-.94 2.06-2.06.94zm10 10l.94 2.06.94-2.06 2.06-.94-2.06-.94-.94-2.06-.94 2.06-2.06.94z\"/><path d=\"M17.41 7.96l-1.37-1.37c-.4-.4-.92-.59-1.43-.59-.52 0-1.04.2-1.43.59L10.3 9.45l-7.72 7.72c-.78.78-.78 2.05 0 2.83L4 21.41c.39.39.9.59 1.41.59.51 0 1.02-.2 1.41-.59l7.78-7.78 2.81-2.81c.8-.78.8-2.07 0-2.86zM5.41 20L4 18.59l7.72-7.72 1.47 1.35L5.41 20z\"/>\n",
              "  </svg>\n",
              "      </button>\n",
              "      \n",
              "  <style>\n",
              "    .colab-df-container {\n",
              "      display:flex;\n",
              "      flex-wrap:wrap;\n",
              "      gap: 12px;\n",
              "    }\n",
              "\n",
              "    .colab-df-convert {\n",
              "      background-color: #E8F0FE;\n",
              "      border: none;\n",
              "      border-radius: 50%;\n",
              "      cursor: pointer;\n",
              "      display: none;\n",
              "      fill: #1967D2;\n",
              "      height: 32px;\n",
              "      padding: 0 0 0 0;\n",
              "      width: 32px;\n",
              "    }\n",
              "\n",
              "    .colab-df-convert:hover {\n",
              "      background-color: #E2EBFA;\n",
              "      box-shadow: 0px 1px 2px rgba(60, 64, 67, 0.3), 0px 1px 3px 1px rgba(60, 64, 67, 0.15);\n",
              "      fill: #174EA6;\n",
              "    }\n",
              "\n",
              "    [theme=dark] .colab-df-convert {\n",
              "      background-color: #3B4455;\n",
              "      fill: #D2E3FC;\n",
              "    }\n",
              "\n",
              "    [theme=dark] .colab-df-convert:hover {\n",
              "      background-color: #434B5C;\n",
              "      box-shadow: 0px 1px 3px 1px rgba(0, 0, 0, 0.15);\n",
              "      filter: drop-shadow(0px 1px 2px rgba(0, 0, 0, 0.3));\n",
              "      fill: #FFFFFF;\n",
              "    }\n",
              "  </style>\n",
              "\n",
              "      <script>\n",
              "        const buttonEl =\n",
              "          document.querySelector('#df-759fde16-868a-4904-b987-9c8560f700a5 button.colab-df-convert');\n",
              "        buttonEl.style.display =\n",
              "          google.colab.kernel.accessAllowed ? 'block' : 'none';\n",
              "\n",
              "        async function convertToInteractive(key) {\n",
              "          const element = document.querySelector('#df-759fde16-868a-4904-b987-9c8560f700a5');\n",
              "          const dataTable =\n",
              "            await google.colab.kernel.invokeFunction('convertToInteractive',\n",
              "                                                     [key], {});\n",
              "          if (!dataTable) return;\n",
              "\n",
              "          const docLinkHtml = 'Like what you see? Visit the ' +\n",
              "            '<a target=\"_blank\" href=https://colab.research.google.com/notebooks/data_table.ipynb>data table notebook</a>'\n",
              "            + ' to learn more about interactive tables.';\n",
              "          element.innerHTML = '';\n",
              "          dataTable['output_type'] = 'display_data';\n",
              "          await google.colab.output.renderOutput(dataTable, element);\n",
              "          const docLink = document.createElement('div');\n",
              "          docLink.innerHTML = docLinkHtml;\n",
              "          element.appendChild(docLink);\n",
              "        }\n",
              "      </script>\n",
              "    </div>\n",
              "  </div>\n",
              "  "
            ],
            "application/vnd.google.colaboratory.module+javascript": "\n      import \"https://ssl.gstatic.com/colaboratory/data_table/a8bd4d5e58f96183/data_table.js\";\n\n      window.createDataTable({\n        data: [[{\n            'v': 0,\n            'f': \"0\",\n        },\n\"3i\",\n\"3i group plc\",\n\"financials\",\n{\n            'v': 0.0949,\n            'f': \"0.0949\",\n        },\n{\n            'v': 0.1263,\n            'f': \"0.1263\",\n        },\n{\n            'v': 0.0982,\n            'f': \"0.0982\",\n        },\n{\n            'v': 3.5016,\n            'f': \"3.5016\",\n        }],\n [{\n            'v': 1,\n            'f': \"1\",\n        },\n\"abf\",\n\"associated british foods plc\",\n\"consumer staples\",\n{\n            'v': 0.2156,\n            'f': \"0.2156\",\n        },\n{\n            'v': 0.2292,\n            'f': \"0.2292\",\n        },\n{\n            'v': 0.2988,\n            'f': \"0.2988\",\n        },\n{\n            'v': 38.5861,\n            'f': \"38.5861\",\n        }],\n [{\n            'v': 2,\n            'f': \"2\",\n        },\n\"abrdn\",\n\"abrdn plc\",\n\"financials\",\n{\n            'v': 0.1854,\n            'f': \"0.1854\",\n        },\n{\n            'v': 0.3022,\n            'f': \"0.3022\",\n        },\n{\n            'v': 0.2055,\n            'f': \"0.2055\",\n        },\n{\n            'v': 10.868,\n            'f': \"10.868\",\n        }],\n [{\n            'v': 3,\n            'f': \"3\",\n        },\n\"admiral\",\n\"admiral group plc\",\n\"financials\",\n{\n            'v': 0.0954,\n            'f': \"0.0954\",\n        },\n{\n            'v': 0.1262,\n            'f': \"0.1262\",\n        },\n{\n            'v': 0.1109,\n            'f': \"0.1109\",\n        },\n{\n            'v': 16.2975,\n            'f': \"16.2975\",\n        }],\n [{\n            'v': 4,\n            'f': \"4\",\n        },\n\"anglo\",\n\"anglo amercian plc\",\n\"basic materials\",\n{\n            'v': 0.1328,\n            'f': \"0.1328\",\n        },\n{\n            'v': 0.1613,\n            'f': \"0.1613\",\n        },\n{\n            'v': 0.1771,\n            'f': \"0.1771\",\n        },\n{\n            'v': 33.3187,\n            'f': \"33.3187\",\n        }],\n [{\n            'v': 5,\n            'f': \"5\",\n        },\n\"antofagasta\",\n\"antofagasta plc\",\n\"basic materials\",\n{\n            'v': 0.1112,\n            'f': \"0.1112\",\n        },\n{\n            'v': 0.1332,\n            'f': \"0.1332\",\n        },\n{\n            'v': 0.1369,\n            'f': \"0.1369\",\n        },\n{\n            'v': 23.082,\n            'f': \"23.082\",\n        }],\n [{\n            'v': 6,\n            'f': \"6\",\n        },\n\"ashtead\",\n\"ashtead group plc\",\n\"industrials\",\n{\n            'v': 0.074,\n            'f': \"0.074\",\n        },\n{\n            'v': 0.1032,\n            'f': \"0.1032\",\n        },\n{\n            'v': 0.1341,\n            'f': \"0.1341\",\n        },\n{\n            'v': 81.2909,\n            'f': \"81.2909\",\n        }],\n [{\n            'v': 7,\n            'f': \"7\",\n        },\n\"astra\",\n\"astrazeneca plc\",\n\"health care\",\n{\n            'v': 0.1929,\n            'f': \"0.1929\",\n        },\n{\n            'v': 0.2094,\n            'f': \"0.2094\",\n        },\n{\n            'v': 0.2332,\n            'f': \"0.2332\",\n        },\n{\n            'v': 20.8899,\n            'f': \"20.8899\",\n        }],\n [{\n            'v': 8,\n            'f': \"8\",\n        },\n\"auto\",\n\"auto trader group plc\",\n\"technology\",\n{\n            'v': 0.0068,\n            'f': \"0.0068\",\n        },\n{\n            'v': 0.0143,\n            'f': \"0.0143\",\n        },\n{\n            'v': 0.0314,\n            'f': \"0.0314\",\n        },\n{\n            'v': 358.95,\n            'f': \"358.95\",\n        }],\n [{\n            'v': 9,\n            'f': \"9\",\n        },\n\"avast\",\n\"avast plc\",\n\"technology\",\n{\n            'v': 0.0067,\n            'f': \"0.0067\",\n        },\n{\n            'v': 0.0158,\n            'f': \"0.0158\",\n        },\n{\n            'v': 0.0106,\n            'f': \"0.0106\",\n        },\n{\n            'v': 59.0395,\n            'f': \"59.0395\",\n        }],\n [{\n            'v': 10,\n            'f': \"10\",\n        },\n\"aveva\",\n\"aveva group plc\",\n\"technology\",\n{\n            'v': 0.0055,\n            'f': \"0.0055\",\n        },\n{\n            'v': 0.0011,\n            'f': \"0.0011\",\n        },\n{\n            'v': 0.3031,\n            'f': \"0.3031\",\n        },\n{\n            'v': 5435.8691,\n            'f': \"5435.8691\",\n        }],\n [{\n            'v': 11,\n            'f': \"11\",\n        },\n\"aviva\",\n\"aviva plc\",\n\"financials\",\n{\n            'v': 0.1549,\n            'f': \"0.1549\",\n        },\n{\n            'v': 0.1705,\n            'f': \"0.1705\",\n        },\n{\n            'v': 0.2336,\n            'f': \"0.2336\",\n        },\n{\n            'v': 50.8368,\n            'f': \"50.8368\",\n        }],\n [{\n            'v': 12,\n            'f': \"12\",\n        },\n\"bae\",\n\"bae systems plc\",\n\"industrials\",\n{\n            'v': 0.014,\n            'f': \"0.014\",\n        },\n{\n            'v': 0.0234,\n            'f': \"0.0234\",\n        },\n{\n            'v': 0.0355,\n            'f': \"0.0355\",\n        },\n{\n            'v': 153.1343,\n            'f': \"153.1343\",\n        }],\n [{\n            'v': 13,\n            'f': \"13\",\n        },\n\"barclays\",\n\"barclays plc\",\n\"financials\",\n{\n            'v': 0.1322,\n            'f': \"0.1322\",\n        },\n{\n            'v': 0.0912,\n            'f': \"0.0912\",\n        },\n{\n            'v': 0.1777,\n            'f': \"0.1777\",\n        },\n{\n            'v': 34.4477,\n            'f': \"34.4477\",\n        }],\n [{\n            'v': 14,\n            'f': \"14\",\n        },\n\"barratt\",\n\"barratt developments plc\",\n\"consumer discretionary\",\n{\n            'v': 0.0374,\n            'f': \"0.0374\",\n        },\n{\n            'v': 0.0408,\n            'f': \"0.0408\",\n        },\n{\n            'v': 0.0479,\n            'f': \"0.0479\",\n        },\n{\n            'v': 27.8594,\n            'f': \"27.8594\",\n        }],\n [{\n            'v': 15,\n            'f': \"15\",\n        },\n\"bat\",\n\"british american tobacco plc\",\n\"consumer staples\",\n{\n            'v': 0.1529,\n            'f': \"0.1529\",\n        },\n{\n            'v': 0.1758,\n            'f': \"0.1758\",\n        },\n{\n            'v': 0.1825,\n            'f': \"0.1825\",\n        },\n{\n            'v': 19.3559,\n            'f': \"19.3559\",\n        }],\n [{\n            'v': 16,\n            'f': \"16\",\n        },\n\"berkeley\",\n\"berkeley group holdings (the) plc\",\n\"consumer discretionary\",\n{\n            'v': 0.0539,\n            'f': \"0.0539\",\n        },\n{\n            'v': 0.0546,\n            'f': \"0.0546\",\n        },\n{\n            'v': 0.1019,\n            'f': \"0.1019\",\n        },\n{\n            'v': 88.9642,\n            'f': \"88.9642\",\n        }],\n [{\n            'v': 17,\n            'f': \"17\",\n        },\n\"bhp\",\n\"bhp group limited\",\n\"basic materials\",\n{\n            'v': 0.0755,\n            'f': \"0.0755\",\n        },\n{\n            'v': 0.1841,\n            'f': \"0.1841\",\n        },\n{\n            'v': 0.0572,\n            'f': \"0.0572\",\n        },\n{\n            'v': -24.3016,\n            'f': \"-24.3016\",\n        }],\n [{\n            'v': 18,\n            'f': \"18\",\n        },\n\"bl\",\n\"british land company plc\",\n\"real estate\",\n{\n            'v': 0.0398,\n            'f': \"0.0398\",\n        },\n{\n            'v': 0.0533,\n            'f': \"0.0533\",\n        },\n{\n            'v': 0.0825,\n            'f': \"0.0825\",\n        },\n{\n            'v': 107.6236,\n            'f': \"107.6236\",\n        }],\n [{\n            'v': 19,\n            'f': \"19\",\n        },\n\"bnm\",\n\"b&m european value retail s.a.\",\n\"consumer discretionary\",\n{\n            'v': 0.0065,\n            'f': \"0.0065\",\n        },\n{\n            'v': 0.0087,\n            'f': \"0.0087\",\n        },\n{\n            'v': 0.0147,\n            'f': \"0.0147\",\n        },\n{\n            'v': 125.4844,\n            'f': \"125.4844\",\n        }],\n [{\n            'v': 20,\n            'f': \"20\",\n        },\n\"bp\",\n\"bp plc\",\n\"energy\",\n{\n            'v': 0.2078,\n            'f': \"0.2078\",\n        },\n{\n            'v': 0.2479,\n            'f': \"0.2479\",\n        },\n{\n            'v': 0.2657,\n            'f': \"0.2657\",\n        },\n{\n            'v': 27.8761,\n            'f': \"27.8761\",\n        }],\n [{\n            'v': 21,\n            'f': \"21\",\n        },\n\"bt\",\n\"bt group plc\",\n\"telecommunications\",\n{\n            'v': 0.175,\n            'f': \"0.175\",\n        },\n{\n            'v': 0.1686,\n            'f': \"0.1686\",\n        },\n{\n            'v': 0.1973,\n            'f': \"0.1973\",\n        },\n{\n            'v': 12.7349,\n            'f': \"12.7349\",\n        }],\n [{\n            'v': 22,\n            'f': \"22\",\n        },\n\"bunzl\",\n\"bunzl plc\",\n\"industrials\",\n{\n            'v': 0.261,\n            'f': \"0.261\",\n        },\n{\n            'v': 0.3517,\n            'f': \"0.3517\",\n        },\n{\n            'v': 0.3165,\n            'f': \"0.3165\",\n        },\n{\n            'v': 21.2558,\n            'f': \"21.2558\",\n        }],\n [{\n            'v': 23,\n            'f': \"23\",\n        },\n\"burberry\",\n\"burberry group plc\",\n\"consumer discretionary\",\n{\n            'v': 0.0329,\n            'f': \"0.0329\",\n        },\n{\n            'v': 0.0312,\n            'f': \"0.0312\",\n        },\n{\n            'v': 0.0736,\n            'f': \"0.0736\",\n        },\n{\n            'v': 123.466,\n            'f': \"123.466\",\n        }],\n [{\n            'v': 24,\n            'f': \"24\",\n        },\n\"coca\",\n\"coca-cola hbc ag\",\n\"consumer staples\",\n{\n            'v': 0.0521,\n            'f': \"0.0521\",\n        },\n{\n            'v': 0.0367,\n            'f': \"0.0367\",\n        },\n{\n            'v': 0.0499,\n            'f': \"0.0499\",\n        },\n{\n            'v': -4.2342,\n            'f': \"-4.2342\",\n        }],\n [{\n            'v': 25,\n            'f': \"25\",\n        },\n\"compass\",\n\"compass group plc\",\n\"consumer discretionary\",\n{\n            'v': 0.2324,\n            'f': \"0.2324\",\n        },\n{\n            'v': 0.2443,\n            'f': \"0.2443\",\n        },\n{\n            'v': 0.2824,\n            'f': \"0.2824\",\n        },\n{\n            'v': 21.5265,\n            'f': \"21.5265\",\n        }],\n [{\n            'v': 26,\n            'f': \"26\",\n        },\n\"crh\",\n\"crh plc\",\n\"industrials\",\n{\n            'v': 0.174,\n            'f': \"0.174\",\n        },\n{\n            'v': 0.1778,\n            'f': \"0.1778\",\n        },\n{\n            'v': 0.2003,\n            'f': \"0.2003\",\n        },\n{\n            'v': 15.0955,\n            'f': \"15.0955\",\n        }],\n [{\n            'v': 27,\n            'f': \"27\",\n        },\n\"croda\",\n\"croda international plc\",\n\"basic materials\",\n{\n            'v': 0.3714,\n            'f': \"0.3714\",\n        },\n{\n            'v': 0.3118,\n            'f': \"0.3118\",\n        },\n{\n            'v': 0.3417,\n            'f': \"0.3417\",\n        },\n{\n            'v': -7.9897,\n            'f': \"-7.9897\",\n        }],\n [{\n            'v': 28,\n            'f': \"28\",\n        },\n\"dcc\",\n\"dcc plc\",\n\"industrials\",\n{\n            'v': 0.0023,\n            'f': \"0.0023\",\n        },\n{\n            'v': 0.0179,\n            'f': \"0.0179\",\n        },\n{\n            'v': 0.1766,\n            'f': \"0.1766\",\n        },\n{\n            'v': 7577.526,\n            'f': \"7577.526\",\n        }],\n [{\n            'v': 29,\n            'f': \"29\",\n        },\n\"dechra\",\n\"dechra pharmaceuticals plc\",\n\"health care\",\n{\n            'v': 0.0456,\n            'f': \"0.0456\",\n        },\n{\n            'v': 0.0977,\n            'f': \"0.0977\",\n        },\n{\n            'v': 0.1344,\n            'f': \"0.1344\",\n        },\n{\n            'v': 194.776,\n            'f': \"194.776\",\n        }],\n [{\n            'v': 30,\n            'f': \"30\",\n        },\n\"diageo\",\n\"diageo plc\",\n\"consumer staples\",\n{\n            'v': 0.1197,\n            'f': \"0.1197\",\n        },\n{\n            'v': 0.1154,\n            'f': \"0.1154\",\n        },\n{\n            'v': 0.0905,\n            'f': \"0.0905\",\n        },\n{\n            'v': -24.3711,\n            'f': \"-24.3711\",\n        }],\n [{\n            'v': 31,\n            'f': \"31\",\n        },\n\"electro\",\n\"rs group plc\",\n\"industrials\",\n{\n            'v': 0.0168,\n            'f': \"0.0168\",\n        },\n{\n            'v': 0.0176,\n            'f': \"0.0176\",\n        },\n{\n            'v': 0.0544,\n            'f': \"0.0544\",\n        },\n{\n            'v': 224.5185,\n            'f': \"224.5185\",\n        }],\n [{\n            'v': 32,\n            'f': \"32\",\n        },\n\"entain\",\n\"entain plc\",\n\"consumer discretionary\",\n{\n            'v': 0.0123,\n            'f': \"0.0123\",\n        },\n{\n            'v': 0.0197,\n            'f': \"0.0197\",\n        },\n{\n            'v': 0.0826,\n            'f': \"0.0826\",\n        },\n{\n            'v': 569.194,\n            'f': \"569.194\",\n        }],\n [{\n            'v': 33,\n            'f': \"33\",\n        },\n\"evraz\",\n\"evraz plc\",\n\"basic materials\",\n{\n            'v': 0.1019,\n            'f': \"0.1019\",\n        },\n{\n            'v': 0.0966,\n            'f': \"0.0966\",\n        },\n{\n            'v': 0.1279,\n            'f': \"0.1279\",\n        },\n{\n            'v': 25.5659,\n            'f': \"25.5659\",\n        }],\n [{\n            'v': 34,\n            'f': \"34\",\n        },\n\"experian\",\n\"experian plc\",\n\"industrials\",\n{\n            'v': 0.0107,\n            'f': \"0.0107\",\n        },\n{\n            'v': 0.0878,\n            'f': \"0.0878\",\n        },\n{\n            'v': 0.0514,\n            'f': \"0.0514\",\n        },\n{\n            'v': 379.3719,\n            'f': \"379.3719\",\n        }],\n [{\n            'v': 35,\n            'f': \"35\",\n        },\n\"ferguson\",\n\"ferguson plc\",\n\"industrials\",\n{\n            'v': 0.0817,\n            'f': \"0.0817\",\n        },\n{\n            'v': 0.0869,\n            'f': \"0.0869\",\n        },\n{\n            'v': 0.1122,\n            'f': \"0.1122\",\n        },\n{\n            'v': 37.3583,\n            'f': \"37.3583\",\n        }],\n [{\n            'v': 36,\n            'f': \"36\",\n        },\n\"flutter\",\n\"flutter entertainment plc\",\n\"consumer discretionary\",\n{\n            'v': 0.0077,\n            'f': \"0.0077\",\n        },\n{\n            'v': 0.0051,\n            'f': \"0.0051\",\n        },\n{\n            'v': 0.015,\n            'f': \"0.015\",\n        },\n{\n            'v': 95.2012,\n            'f': \"95.2012\",\n        }],\n [{\n            'v': 37,\n            'f': \"37\",\n        },\n\"fresnillo\",\n\"fresnillo plc\",\n\"basic materials\",\n{\n            'v': 0.0237,\n            'f': \"0.0237\",\n        },\n{\n            'v': 0.0261,\n            'f': \"0.0261\",\n        },\n{\n            'v': 0.0316,\n            'f': \"0.0316\",\n        },\n{\n            'v': 33.5715,\n            'f': \"33.5715\",\n        }],\n [{\n            'v': 38,\n            'f': \"38\",\n        },\n\"glencore\",\n\"glencore plc\",\n\"basic materials\",\n{\n            'v': 0.1019,\n            'f': \"0.1019\",\n        },\n{\n            'v': 0.0903,\n            'f': \"0.0903\",\n        },\n{\n            'v': 0.1066,\n            'f': \"0.1066\",\n        },\n{\n            'v': 4.6503,\n            'f': \"4.6503\",\n        }],\n [{\n            'v': 39,\n            'f': \"39\",\n        },\n\"gsk\",\n\"gsk plc\",\n\"health care\",\n{\n            'v': 0.018,\n            'f': \"0.018\",\n        },\n{\n            'v': 0.0225,\n            'f': \"0.0225\",\n        },\n{\n            'v': 0.0307,\n            'f': \"0.0307\",\n        },\n{\n            'v': 70.6701,\n            'f': \"70.6701\",\n        }],\n [{\n            'v': 40,\n            'f': \"40\",\n        },\n\"halma\",\n\"halma plc\",\n\"industrials\",\n{\n            'v': 0.015,\n            'f': \"0.015\",\n        },\n{\n            'v': 0.0209,\n            'f': \"0.0209\",\n        },\n{\n            'v': 0.0337,\n            'f': \"0.0337\",\n        },\n{\n            'v': 123.8825,\n            'f': \"123.8825\",\n        }],\n [{\n            'v': 41,\n            'f': \"41\",\n        },\n\"hikma\",\n\"hikma pharmaceuticals plc\",\n\"health care\",\n{\n            'v': 0.0168,\n            'f': \"0.0168\",\n        },\n{\n            'v': 0.1396,\n            'f': \"0.1396\",\n        },\n{\n            'v': 0.1842,\n            'f': \"0.1842\",\n        },\n{\n            'v': 994.4801,\n            'f': \"994.4801\",\n        }],\n [{\n            'v': 42,\n            'f': \"42\",\n        },\n\"hl\",\n\"hargreaves lansdown plc\",\n\"financials\",\n{\n            'v': 0.0,\n            'f': \"0.0\",\n        },\n{\n            'v': 0.0179,\n            'f': \"0.0179\",\n        },\n{\n            'v': 0.0287,\n            'f': \"0.0287\",\n        },\n{\n            'v': Infinity,\n            'f': \"Infinity\",\n        }],\n [{\n            'v': 43,\n            'f': \"43\",\n        },\n\"hsbc\",\n\"hsbc holdings plc\",\n\"financials\",\n{\n            'v': 0.0323,\n            'f': \"0.0323\",\n        },\n{\n            'v': 0.0266,\n            'f': \"0.0266\",\n        },\n{\n            'v': 0.0363,\n            'f': \"0.0363\",\n        },\n{\n            'v': 12.3994,\n            'f': \"12.3994\",\n        }],\n [{\n            'v': 44,\n            'f': \"44\",\n        },\n\"imperial\",\n\"imperial brands plc\",\n\"consumer staples\",\n{\n            'v': 0.0189,\n            'f': \"0.0189\",\n        },\n{\n            'v': 0.017,\n            'f': \"0.017\",\n        },\n{\n            'v': 0.2446,\n            'f': \"0.2446\",\n        },\n{\n            'v': 1195.5446,\n            'f': \"1195.5446\",\n        }],\n [{\n            'v': 45,\n            'f': \"45\",\n        },\n\"informa\",\n\"informa plc\",\n\"consumer discretionary\",\n{\n            'v': 0.0418,\n            'f': \"0.0418\",\n        },\n{\n            'v': 0.0482,\n            'f': \"0.0482\",\n        },\n{\n            'v': 0.0631,\n            'f': \"0.0631\",\n        },\n{\n            'v': 50.9702,\n            'f': \"50.9702\",\n        }],\n [{\n            'v': 46,\n            'f': \"46\",\n        },\n\"intercontinental\",\n\"intercontinental hotels group plc\",\n\"consumer discretionary\",\n{\n            'v': 0.0369,\n            'f': \"0.0369\",\n        },\n{\n            'v': 0.0187,\n            'f': \"0.0187\",\n        },\n{\n            'v': 0.0317,\n            'f': \"0.0317\",\n        },\n{\n            'v': -13.981,\n            'f': \"-13.981\",\n        }],\n [{\n            'v': 47,\n            'f': \"47\",\n        },\n\"intermediate\",\n\"intermediate capital group plc\",\n\"financials\",\n{\n            'v': 0.0339,\n            'f': \"0.0339\",\n        },\n{\n            'v': 0.0293,\n            'f': \"0.0293\",\n        },\n{\n            'v': 0.037,\n            'f': \"0.037\",\n        },\n{\n            'v': 8.9597,\n            'f': \"8.9597\",\n        }],\n [{\n            'v': 48,\n            'f': \"48\",\n        },\n\"international\",\n\"international consolidated airlines group s.a.\",\n\"consumer discretionary\",\n{\n            'v': 0.0474,\n            'f': \"0.0474\",\n        },\n{\n            'v': 0.0515,\n            'f': \"0.0515\",\n        },\n{\n            'v': 0.065,\n            'f': \"0.065\",\n        },\n{\n            'v': 37.2214,\n            'f': \"37.2214\",\n        }],\n [{\n            'v': 49,\n            'f': \"49\",\n        },\n\"intertek\",\n\"intertek group plc\",\n\"industrials\",\n{\n            'v': 0.0422,\n            'f': \"0.0422\",\n        },\n{\n            'v': 0.0568,\n            'f': \"0.0568\",\n        },\n{\n            'v': 0.0604,\n            'f': \"0.0604\",\n        },\n{\n            'v': 42.9706,\n            'f': \"42.9706\",\n        }],\n [{\n            'v': 50,\n            'f': \"50\",\n        },\n\"itv\",\n\"itv plc\",\n\"consumer discretionary\",\n{\n            'v': 0.0127,\n            'f': \"0.0127\",\n        },\n{\n            'v': 0.0176,\n            'f': \"0.0176\",\n        },\n{\n            'v': 0.0213,\n            'f': \"0.0213\",\n        },\n{\n            'v': 67.6869,\n            'f': \"67.6869\",\n        }],\n [{\n            'v': 51,\n            'f': \"51\",\n        },\n\"jd\",\n\"jd sports fashion plc\",\n\"consumer discretionary\",\n{\n            'v': 0.0248,\n            'f': \"0.0248\",\n        },\n{\n            'v': 0.0405,\n            'f': \"0.0405\",\n        },\n{\n            'v': 0.081,\n            'f': \"0.081\",\n        },\n{\n            'v': 226.0261,\n            'f': \"226.0261\",\n        }],\n [{\n            'v': 52,\n            'f': \"52\",\n        },\n\"kingfisher\",\n\"kingfisher plc\",\n\"consumer discretionary\",\n{\n            'v': 0.0657,\n            'f': \"0.0657\",\n        },\n{\n            'v': 0.0458,\n            'f': \"0.0458\",\n        },\n{\n            'v': 0.0539,\n            'f': \"0.0539\",\n        },\n{\n            'v': -17.9512,\n            'f': \"-17.9512\",\n        }],\n [{\n            'v': 53,\n            'f': \"53\",\n        },\n\"land\",\n\"land securities group plc\",\n\"real estate\",\n{\n            'v': 0.0444,\n            'f': \"0.0444\",\n        },\n{\n            'v': 0.0638,\n            'f': \"0.0638\",\n        },\n{\n            'v': 0.0568,\n            'f': \"0.0568\",\n        },\n{\n            'v': 27.7073,\n            'f': \"27.7073\",\n        }],\n [{\n            'v': 54,\n            'f': \"54\",\n        },\n\"lloyds\",\n\"lloyds banking group plc\",\n\"financials\",\n{\n            'v': 0.022,\n            'f': \"0.022\",\n        },\n{\n            'v': 0.037,\n            'f': \"0.037\",\n        },\n{\n            'v': 0.0776,\n            'f': \"0.0776\",\n        },\n{\n            'v': 252.1664,\n            'f': \"252.1664\",\n        }],\n [{\n            'v': 55,\n            'f': \"55\",\n        },\n\"lng\",\n\"legal & general group plc\",\n\"financials\",\n{\n            'v': 0.0323,\n            'f': \"0.0323\",\n        },\n{\n            'v': 0.0471,\n            'f': \"0.0471\",\n        },\n{\n            'v': 0.0594,\n            'f': \"0.0594\",\n        },\n{\n            'v': 83.5987,\n            'f': \"83.5987\",\n        }],\n [{\n            'v': 56,\n            'f': \"56\",\n        },\n\"lseg\",\n\"london stock exchange group plc\",\n\"financials\",\n{\n            'v': 0.0159,\n            'f': \"0.0159\",\n        },\n{\n            'v': 0.0378,\n            'f': \"0.0378\",\n        },\n{\n            'v': 0.0419,\n            'f': \"0.0419\",\n        },\n{\n            'v': 164.5967,\n            'f': \"164.5967\",\n        }],\n [{\n            'v': 57,\n            'f': \"57\",\n        },\n\"meggitt\",\n\"meggitt plc \",\n\"industrials\",\n{\n            'v': 0.0274,\n            'f': \"0.0274\",\n        },\n{\n            'v': 0.0278,\n            'f': \"0.0278\",\n        },\n{\n            'v': 0.0441,\n            'f': \"0.0441\",\n        },\n{\n            'v': 60.7713,\n            'f': \"60.7713\",\n        }],\n [{\n            'v': 58,\n            'f': \"58\",\n        },\n\"melrose\",\n\"melrose industries plc\",\n\"industrials\",\n{\n            'v': 0.0242,\n            'f': \"0.0242\",\n        },\n{\n            'v': 0.044,\n            'f': \"0.044\",\n        },\n{\n            'v': 0.0373,\n            'f': \"0.0373\",\n        },\n{\n            'v': 54.382,\n            'f': \"54.382\",\n        }],\n [{\n            'v': 59,\n            'f': \"59\",\n        },\n\"mng\",\n\"m&g plc\",\n\"financials\",\n{\n            'v': 0.0139,\n            'f': \"0.0139\",\n        },\n{\n            'v': 0.0326,\n            'f': \"0.0326\",\n        },\n{\n            'v': 0.0476,\n            'f': \"0.0476\",\n        },\n{\n            'v': 243.6831,\n            'f': \"243.6831\",\n        }],\n [{\n            'v': 60,\n            'f': \"60\",\n        },\n\"mondi\",\n\"mondi plc\",\n\"industrials\",\n{\n            'v': 0.0731,\n            'f': \"0.0731\",\n        },\n{\n            'v': 0.0815,\n            'f': \"0.0815\",\n        },\n{\n            'v': 0.1082,\n            'f': \"0.1082\",\n        },\n{\n            'v': 48.0261,\n            'f': \"48.0261\",\n        }],\n [{\n            'v': 61,\n            'f': \"61\",\n        },\n\"national\",\n\"national grid plc\",\n\"utilities\",\n{\n            'v': 0.0251,\n            'f': \"0.0251\",\n        },\n{\n            'v': 0.0418,\n            'f': \"0.0418\",\n        },\n{\n            'v': 0.0347,\n            'f': \"0.0347\",\n        },\n{\n            'v': 38.0287,\n            'f': \"38.0287\",\n        }],\n [{\n            'v': 62,\n            'f': \"62\",\n        },\n\"natwest\",\n\"natwest group plc\",\n\"financials\",\n{\n            'v': 0.0036,\n            'f': \"0.0036\",\n        },\n{\n            'v': 0.0275,\n            'f': \"0.0275\",\n        },\n{\n            'v': 0.0262,\n            'f': \"0.0262\",\n        },\n{\n            'v': 634.9366,\n            'f': \"634.9366\",\n        }],\n [{\n            'v': 63,\n            'f': \"63\",\n        },\n\"next\",\n\"next plc\",\n\"consumer discretionary\",\n{\n            'v': 0.002,\n            'f': \"0.002\",\n        },\n{\n            'v': 0.015,\n            'f': \"0.015\",\n        },\n{\n            'v': 0.0227,\n            'f': \"0.0227\",\n        },\n{\n            'v': 1020.1111,\n            'f': \"1020.1111\",\n        }],\n [{\n            'v': 64,\n            'f': \"64\",\n        },\n\"ocado\",\n\"ocado group plc\",\n\"consumer staples\",\n{\n            'v': 0.0122,\n            'f': \"0.0122\",\n        },\n{\n            'v': 0.0081,\n            'f': \"0.0081\",\n        },\n{\n            'v': 0.01,\n            'f': \"0.01\",\n        },\n{\n            'v': -17.8905,\n            'f': \"-17.8905\",\n        }],\n [{\n            'v': 65,\n            'f': \"65\",\n        },\n\"pearson\",\n\"pearson plc\",\n\"consumer discretionary\",\n{\n            'v': 0.0153,\n            'f': \"0.0153\",\n        },\n{\n            'v': 0.0239,\n            'f': \"0.0239\",\n        },\n{\n            'v': 0.0215,\n            'f': \"0.0215\",\n        },\n{\n            'v': 40.6481,\n            'f': \"40.6481\",\n        }],\n [{\n            'v': 66,\n            'f': \"66\",\n        },\n\"pershing\",\n\"pershing square holdings ltd\",\n\"financials\",\n{\n            'v': 0.002,\n            'f': \"0.002\",\n        },\n{\n            'v': 0.009,\n            'f': \"0.009\",\n        },\n{\n            'v': 0.0039,\n            'f': \"0.0039\",\n        },\n{\n            'v': 98.7848,\n            'f': \"98.7848\",\n        }],\n [{\n            'v': 67,\n            'f': \"67\",\n        },\n\"persimmon\",\n\"persimmon plc\",\n\"consumer discretionary\",\n{\n            'v': 0.0364,\n            'f': \"0.0364\",\n        },\n{\n            'v': 0.0316,\n            'f': \"0.0316\",\n        },\n{\n            'v': 0.0355,\n            'f': \"0.0355\",\n        },\n{\n            'v': -2.5354,\n            'f': \"-2.5354\",\n        }],\n [{\n            'v': 68,\n            'f': \"68\",\n        },\n\"phoenix\",\n\"phoenix group holdings\",\n\"financials\",\n{\n            'v': 0.0032,\n            'f': \"0.0032\",\n        },\n{\n            'v': 0.0188,\n            'f': \"0.0188\",\n        },\n{\n            'v': 0.0315,\n            'f': \"0.0315\",\n        },\n{\n            'v': 871.3586,\n            'f': \"871.3586\",\n        }],\n [{\n            'v': 69,\n            'f': \"69\",\n        },\n\"pm\",\n\"polymetal international plc\",\n\"basic materials\",\n{\n            'v': 0.0281,\n            'f': \"0.0281\",\n        },\n{\n            'v': 0.0416,\n            'f': \"0.0416\",\n        },\n{\n            'v': 0.0647,\n            'f': \"0.0647\",\n        },\n{\n            'v': 130.0103,\n            'f': \"130.0103\",\n        }],\n [{\n            'v': 70,\n            'f': \"70\",\n        },\n\"prud\",\n\"prudential plc\",\n\"financials\",\n{\n            'v': 0.0098,\n            'f': \"0.0098\",\n        },\n{\n            'v': 0.0151,\n            'f': \"0.0151\",\n        },\n{\n            'v': 0.0261,\n            'f': \"0.0261\",\n        },\n{\n            'v': 167.1679,\n            'f': \"167.1679\",\n        }],\n [{\n            'v': 71,\n            'f': \"71\",\n        },\n\"rds\",\n\"shell plc\",\n\"energy\",\n{\n            'v': 0.0332,\n            'f': \"0.0332\",\n        },\n{\n            'v': 0.0562,\n            'f': \"0.0562\",\n        },\n{\n            'v': 0.0573,\n            'f': \"0.0573\",\n        },\n{\n            'v': 72.3556,\n            'f': \"72.3556\",\n        }],\n [{\n            'v': 72,\n            'f': \"72\",\n        },\n\"reckitt\",\n\"reckitt benckiser group plc\",\n\"consumer staples\",\n{\n            'v': 0.0418,\n            'f': \"0.0418\",\n        },\n{\n            'v': 0.0525,\n            'f': \"0.0525\",\n        },\n{\n            'v': 0.0622,\n            'f': \"0.0622\",\n        },\n{\n            'v': 49.0189,\n            'f': \"49.0189\",\n        }],\n [{\n            'v': 73,\n            'f': \"73\",\n        },\n\"relx\",\n\"relx plc\",\n\"consumer discretionary\",\n{\n            'v': 0.0202,\n            'f': \"0.0202\",\n        },\n{\n            'v': 0.026,\n            'f': \"0.026\",\n        },\n{\n            'v': 0.0329,\n            'f': \"0.0329\",\n        },\n{\n            'v': 63.1458,\n            'f': \"63.1458\",\n        }],\n [{\n            'v': 74,\n            'f': \"74\",\n        },\n\"rento\",\n\"rentokil initial plc\",\n\"industrials\",\n{\n            'v': 0.0191,\n            'f': \"0.0191\",\n        },\n{\n            'v': 0.0216,\n            'f': \"0.0216\",\n        },\n{\n            'v': 0.0293,\n            'f': \"0.0293\",\n        },\n{\n            'v': 53.818,\n            'f': \"53.818\",\n        }],\n [{\n            'v': 75,\n            'f': \"75\",\n        },\n\"rm\",\n\"rightmove plc\",\n\"real estate\",\n{\n            'v': 0.0112,\n            'f': \"0.0112\",\n        },\n{\n            'v': 0.0303,\n            'f': \"0.0303\",\n        },\n{\n            'v': 0.0383,\n            'f': \"0.0383\",\n        },\n{\n            'v': 240.9588,\n            'f': \"240.9588\",\n        }],\n [{\n            'v': 76,\n            'f': \"76\",\n        },\n\"rmg\",\n\"international distributions services plc\",\n\"industrials\",\n{\n            'v': 0.017,\n            'f': \"0.017\",\n        },\n{\n            'v': 0.02,\n            'f': \"0.02\",\n        },\n{\n            'v': 0.0213,\n            'f': \"0.0213\",\n        },\n{\n            'v': 25.129,\n            'f': \"25.129\",\n        }],\n [{\n            'v': 77,\n            'f': \"77\",\n        },\n\"rolls\",\n\"rolls-royce holdings plc\",\n\"industrials\",\n{\n            'v': 0.0255,\n            'f': \"0.0255\",\n        },\n{\n            'v': 0.0336,\n            'f': \"0.0336\",\n        },\n{\n            'v': 0.0503,\n            'f': \"0.0503\",\n        },\n{\n            'v': 97.0577,\n            'f': \"97.0577\",\n        }],\n [{\n            'v': 78,\n            'f': \"78\",\n        },\n\"rt\",\n\"rio tinto plc\",\n\"basic materials\",\n{\n            'v': 0.0285,\n            'f': \"0.0285\",\n        },\n{\n            'v': 0.0327,\n            'f': \"0.0327\",\n        },\n{\n            'v': 0.0589,\n            'f': \"0.0589\",\n        },\n{\n            'v': 106.783,\n            'f': \"106.783\",\n        }],\n [{\n            'v': 79,\n            'f': \"79\",\n        },\n\"sage\",\n\"sage group plc (the)\",\n\"technology\",\n{\n            'v': 0.0047,\n            'f': \"0.0047\",\n        },\n{\n            'v': 0.0074,\n            'f': \"0.0074\",\n        },\n{\n            'v': 0.0182,\n            'f': \"0.0182\",\n        },\n{\n            'v': 287.5679,\n            'f': \"287.5679\",\n        }],\n [{\n            'v': 80,\n            'f': \"80\",\n        },\n\"sb\",\n\"j sainsbury plc\",\n\"consumer staples\",\n{\n            'v': 0.0253,\n            'f': \"0.0253\",\n        },\n{\n            'v': 0.025,\n            'f': \"0.025\",\n        },\n{\n            'v': 0.0252,\n            'f': \"0.0252\",\n        },\n{\n            'v': -0.3747,\n            'f': \"-0.3747\",\n        }],\n [{\n            'v': 81,\n            'f': \"81\",\n        },\n\"sc\",\n\"standard chartered plc\",\n\"financials\",\n{\n            'v': 0.0218,\n            'f': \"0.0218\",\n        },\n{\n            'v': 0.0094,\n            'f': \"0.0094\",\n        },\n{\n            'v': 0.0252,\n            'f': \"0.0252\",\n        },\n{\n            'v': 15.754,\n            'f': \"15.754\",\n        }],\n [{\n            'v': 82,\n            'f': \"82\",\n        },\n\"schroders\",\n\"schroders plc\",\n\"financials\",\n{\n            'v': 0.02,\n            'f': \"0.02\",\n        },\n{\n            'v': 0.0258,\n            'f': \"0.0258\",\n        },\n{\n            'v': 0.0359,\n            'f': \"0.0359\",\n        },\n{\n            'v': 79.3541,\n            'f': \"79.3541\",\n        }],\n [{\n            'v': 83,\n            'f': \"83\",\n        },\n\"segro\",\n\"segro plc (reit)\",\n\"real estate\",\n{\n            'v': 0.0227,\n            'f': \"0.0227\",\n        },\n{\n            'v': 0.0357,\n            'f': \"0.0357\",\n        },\n{\n            'v': 0.0407,\n            'f': \"0.0407\",\n        },\n{\n            'v': 79.0736,\n            'f': \"79.0736\",\n        }],\n [{\n            'v': 84,\n            'f': \"84\",\n        },\n\"sjp\",\n\"st. james\\u00b4s place plc\",\n\"financials\",\n{\n            'v': 0.0143,\n            'f': \"0.0143\",\n        },\n{\n            'v': 0.0181,\n            'f': \"0.0181\",\n        },\n{\n            'v': 0.0206,\n            'f': \"0.0206\",\n        },\n{\n            'v': 44.1979,\n            'f': \"44.1979\",\n        }],\n [{\n            'v': 85,\n            'f': \"85\",\n        },\n\"sk\",\n\"smurfit kappa group plc\",\n\"industrials\",\n{\n            'v': 0.0509,\n            'f': \"0.0509\",\n        },\n{\n            'v': 0.0769,\n            'f': \"0.0769\",\n        },\n{\n            'v': 0.0842,\n            'f': \"0.0842\",\n        },\n{\n            'v': 65.3172,\n            'f': \"65.3172\",\n        }],\n [{\n            'v': 86,\n            'f': \"86\",\n        },\n\"sm\",\n\"scottish mortgage investment trust plc\",\n\"financials\",\n{\n            'v': 0.0012,\n            'f': \"0.0012\",\n        },\n{\n            'v': 0.0016,\n            'f': \"0.0016\",\n        },\n{\n            'v': 0.0017,\n            'f': \"0.0017\",\n        },\n{\n            'v': 43.3702,\n            'f': \"43.3702\",\n        }],\n [{\n            'v': 87,\n            'f': \"87\",\n        },\n\"smithds\",\n\"ds smith plc\",\n\"industrials\",\n{\n            'v': 0.0332,\n            'f': \"0.0332\",\n        },\n{\n            'v': 0.0411,\n            'f': \"0.0411\",\n        },\n{\n            'v': 0.0571,\n            'f': \"0.0571\",\n        },\n{\n            'v': 71.9167,\n            'f': \"71.9167\",\n        }],\n [{\n            'v': 88,\n            'f': \"88\",\n        },\n\"smiths\",\n\"smiths group plc\",\n\"industrials\",\n{\n            'v': 0.0115,\n            'f': \"0.0115\",\n        },\n{\n            'v': 0.0183,\n            'f': \"0.0183\",\n        },\n{\n            'v': 0.0297,\n            'f': \"0.0297\",\n        },\n{\n            'v': 158.9831,\n            'f': \"158.9831\",\n        }],\n [{\n            'v': 89,\n            'f': \"89\",\n        },\n\"snn\",\n\"smith & nephew plc\",\n\"health care\",\n{\n            'v': 0.0067,\n            'f': \"0.0067\",\n        },\n{\n            'v': 0.0082,\n            'f': \"0.0082\",\n        },\n{\n            'v': 0.019,\n            'f': \"0.019\",\n        },\n{\n            'v': 184.6233,\n            'f': \"184.6233\",\n        }],\n [{\n            'v': 90,\n            'f': \"90\",\n        },\n\"ss\",\n\"spirax-sarco engineering plc\",\n\"industrials\",\n{\n            'v': 0.0314,\n            'f': \"0.0314\",\n        },\n{\n            'v': 0.0404,\n            'f': \"0.0404\",\n        },\n{\n            'v': 0.0609,\n            'f': \"0.0609\",\n        },\n{\n            'v': 94.1023,\n            'f': \"94.1023\",\n        }],\n [{\n            'v': 91,\n            'f': \"91\",\n        },\n\"sse\",\n\"sse plc\",\n\"utilities\",\n{\n            'v': 0.0381,\n            'f': \"0.0381\",\n        },\n{\n            'v': 0.0448,\n            'f': \"0.0448\",\n        },\n{\n            'v': 0.0529,\n            'f': \"0.0529\",\n        },\n{\n            'v': 39.0129,\n            'f': \"39.0129\",\n        }],\n [{\n            'v': 92,\n            'f': \"92\",\n        },\n\"st\",\n\"severn trent plc\",\n\"utilities\",\n{\n            'v': 0.0546,\n            'f': \"0.0546\",\n        },\n{\n            'v': 0.0479,\n            'f': \"0.0479\",\n        },\n{\n            'v': 0.0609,\n            'f': \"0.0609\",\n        },\n{\n            'v': 11.633,\n            'f': \"11.633\",\n        }],\n [{\n            'v': 93,\n            'f': \"93\",\n        },\n\"tesco\",\n\"tesco plc\",\n\"consumer staples\",\n{\n            'v': 0.0215,\n            'f': \"0.0215\",\n        },\n{\n            'v': 0.0209,\n            'f': \"0.0209\",\n        },\n{\n            'v': 0.0259,\n            'f': \"0.0259\",\n        },\n{\n            'v': 20.4923,\n            'f': \"20.4923\",\n        }],\n [{\n            'v': 94,\n            'f': \"94\",\n        },\n\"tw\",\n\"taylor wimpey plc\",\n\"consumer discretionary\",\n{\n            'v': 0.0204,\n            'f': \"0.0204\",\n        },\n{\n            'v': 0.0223,\n            'f': \"0.0223\",\n        },\n{\n            'v': 0.0529,\n            'f': \"0.0529\",\n        },\n{\n            'v': 159.6614,\n            'f': \"159.6614\",\n        }],\n [{\n            'v': 95,\n            'f': \"95\",\n        },\n\"unilever\",\n\"unilever plc\",\n\"consumer staples\",\n{\n            'v': 0.0566,\n            'f': \"0.0566\",\n        },\n{\n            'v': 0.0646,\n            'f': \"0.0646\",\n        },\n{\n            'v': 0.0714,\n            'f': \"0.0714\",\n        },\n{\n            'v': 26.2472,\n            'f': \"26.2472\",\n        }],\n [{\n            'v': 96,\n            'f': \"96\",\n        },\n\"uu\",\n\"united utilities group plc\",\n\"utilities\",\n{\n            'v': 0.0285,\n            'f': \"0.0285\",\n        },\n{\n            'v': 0.0373,\n            'f': \"0.0373\",\n        },\n{\n            'v': 0.0477,\n            'f': \"0.0477\",\n        },\n{\n            'v': 67.503,\n            'f': \"67.503\",\n        }],\n [{\n            'v': 97,\n            'f': \"97\",\n        },\n\"vodafone\",\n\"vodafone group plc\",\n\"telecommunications\",\n{\n            'v': 0.0127,\n            'f': \"0.0127\",\n        },\n{\n            'v': 0.014,\n            'f': \"0.014\",\n        },\n{\n            'v': 0.0194,\n            'f': \"0.0194\",\n        },\n{\n            'v': 53.0586,\n            'f': \"53.0586\",\n        }],\n [{\n            'v': 98,\n            'f': \"98\",\n        },\n\"whitbread\",\n\"whitbread plc\",\n\"consumer discretionary\",\n{\n            'v': 0.0284,\n            'f': \"0.0284\",\n        },\n{\n            'v': 0.0272,\n            'f': \"0.0272\",\n        },\n{\n            'v': 0.0246,\n            'f': \"0.0246\",\n        },\n{\n            'v': -13.2301,\n            'f': \"-13.2301\",\n        }],\n [{\n            'v': 99,\n            'f': \"99\",\n        },\n\"wpp\",\n\"wpp plc\",\n\"consumer discretionary\",\n{\n            'v': 0.0249,\n            'f': \"0.0249\",\n        },\n{\n            'v': 0.0362,\n            'f': \"0.0362\",\n        },\n{\n            'v': 0.0469,\n            'f': \"0.0469\",\n        },\n{\n            'v': 88.1657,\n            'f': \"88.1657\",\n        }]],\n        columns: [[\"number\", \"index\"], [\"string\", \"Company\"], [\"string\", \"Company_name\"], [\"string\", \"FTSE industry\"], [\"number\", \"2019\"], [\"number\", \"2020\"], [\"number\", \"2021\"], [\"number\", \"change\"]],\n        columnOptions: [{\"width\": \"1px\", \"className\": \"index_column\"}],\n        rowsPerPage: 25,\n        helpUrl: \"https://colab.research.google.com/notebooks/data_table.ipynb\",\n        suppressOutputScrolling: true,\n        minimumWidth: undefined,\n      });\n    "
          },
          "metadata": {},
          "execution_count": 13
        }
      ]
    },
    {
      "cell_type": "code",
      "source": [
        "data_grouped = data.drop([42], inplace = True )\n",
        "data_grouped = data.groupby(['FTSE industry']).mean()\n",
        "data_grouped.round(4)"
      ],
      "metadata": {
        "colab": {
          "base_uri": "https://localhost:8080/",
          "height": 418
        },
        "id": "pm-exaRYNzU0",
        "outputId": "b9b21e2d-438d-4d0b-a198-36d6d7510ca7"
      },
      "execution_count": 14,
      "outputs": [
        {
          "output_type": "stream",
          "name": "stderr",
          "text": [
            "/usr/local/lib/python3.8/dist-packages/pandas/core/frame.py:4906: SettingWithCopyWarning: \n",
            "A value is trying to be set on a copy of a slice from a DataFrame\n",
            "\n",
            "See the caveats in the documentation: https://pandas.pydata.org/pandas-docs/stable/user_guide/indexing.html#returning-a-view-versus-a-copy\n",
            "  return super().drop(\n"
          ]
        },
        {
          "output_type": "execute_result",
          "data": {
            "text/plain": [
              "                          2019    2020    2021     change\n",
              "FTSE industry                                            \n",
              "basic materials         0.1083  0.1197  0.1225    36.0767\n",
              "consumer discretionary  0.0380  0.0404  0.0586   137.8817\n",
              "consumer staples        0.0717  0.0745  0.1061   130.2375\n",
              "energy                  0.1205  0.1521  0.1615    50.1158\n",
              "financials              0.0468  0.0606  0.0683   149.2779\n",
              "health care             0.0560  0.0955  0.1203   293.0879\n",
              "industrials             0.0503  0.0675  0.0849   469.2954\n",
              "real estate             0.0295  0.0458  0.0546   113.8408\n",
              "technology              0.0059  0.0096  0.0908  1535.3566\n",
              "telecommunications      0.0938  0.0913  0.1083    32.8967\n",
              "utilities               0.0366  0.0430  0.0491    39.0444"
            ],
            "text/html": [
              "\n",
              "  <div id=\"df-0844651e-be22-4a55-bc90-6086adae3b31\">\n",
              "    <div class=\"colab-df-container\">\n",
              "      <div>\n",
              "<style scoped>\n",
              "    .dataframe tbody tr th:only-of-type {\n",
              "        vertical-align: middle;\n",
              "    }\n",
              "\n",
              "    .dataframe tbody tr th {\n",
              "        vertical-align: top;\n",
              "    }\n",
              "\n",
              "    .dataframe thead th {\n",
              "        text-align: right;\n",
              "    }\n",
              "</style>\n",
              "<table border=\"1\" class=\"dataframe\">\n",
              "  <thead>\n",
              "    <tr style=\"text-align: right;\">\n",
              "      <th></th>\n",
              "      <th>2019</th>\n",
              "      <th>2020</th>\n",
              "      <th>2021</th>\n",
              "      <th>change</th>\n",
              "    </tr>\n",
              "    <tr>\n",
              "      <th>FTSE industry</th>\n",
              "      <th></th>\n",
              "      <th></th>\n",
              "      <th></th>\n",
              "      <th></th>\n",
              "    </tr>\n",
              "  </thead>\n",
              "  <tbody>\n",
              "    <tr>\n",
              "      <th>basic materials</th>\n",
              "      <td>0.1083</td>\n",
              "      <td>0.1197</td>\n",
              "      <td>0.1225</td>\n",
              "      <td>36.0767</td>\n",
              "    </tr>\n",
              "    <tr>\n",
              "      <th>consumer discretionary</th>\n",
              "      <td>0.0380</td>\n",
              "      <td>0.0404</td>\n",
              "      <td>0.0586</td>\n",
              "      <td>137.8817</td>\n",
              "    </tr>\n",
              "    <tr>\n",
              "      <th>consumer staples</th>\n",
              "      <td>0.0717</td>\n",
              "      <td>0.0745</td>\n",
              "      <td>0.1061</td>\n",
              "      <td>130.2375</td>\n",
              "    </tr>\n",
              "    <tr>\n",
              "      <th>energy</th>\n",
              "      <td>0.1205</td>\n",
              "      <td>0.1521</td>\n",
              "      <td>0.1615</td>\n",
              "      <td>50.1158</td>\n",
              "    </tr>\n",
              "    <tr>\n",
              "      <th>financials</th>\n",
              "      <td>0.0468</td>\n",
              "      <td>0.0606</td>\n",
              "      <td>0.0683</td>\n",
              "      <td>149.2779</td>\n",
              "    </tr>\n",
              "    <tr>\n",
              "      <th>health care</th>\n",
              "      <td>0.0560</td>\n",
              "      <td>0.0955</td>\n",
              "      <td>0.1203</td>\n",
              "      <td>293.0879</td>\n",
              "    </tr>\n",
              "    <tr>\n",
              "      <th>industrials</th>\n",
              "      <td>0.0503</td>\n",
              "      <td>0.0675</td>\n",
              "      <td>0.0849</td>\n",
              "      <td>469.2954</td>\n",
              "    </tr>\n",
              "    <tr>\n",
              "      <th>real estate</th>\n",
              "      <td>0.0295</td>\n",
              "      <td>0.0458</td>\n",
              "      <td>0.0546</td>\n",
              "      <td>113.8408</td>\n",
              "    </tr>\n",
              "    <tr>\n",
              "      <th>technology</th>\n",
              "      <td>0.0059</td>\n",
              "      <td>0.0096</td>\n",
              "      <td>0.0908</td>\n",
              "      <td>1535.3566</td>\n",
              "    </tr>\n",
              "    <tr>\n",
              "      <th>telecommunications</th>\n",
              "      <td>0.0938</td>\n",
              "      <td>0.0913</td>\n",
              "      <td>0.1083</td>\n",
              "      <td>32.8967</td>\n",
              "    </tr>\n",
              "    <tr>\n",
              "      <th>utilities</th>\n",
              "      <td>0.0366</td>\n",
              "      <td>0.0430</td>\n",
              "      <td>0.0491</td>\n",
              "      <td>39.0444</td>\n",
              "    </tr>\n",
              "  </tbody>\n",
              "</table>\n",
              "</div>\n",
              "      <button class=\"colab-df-convert\" onclick=\"convertToInteractive('df-0844651e-be22-4a55-bc90-6086adae3b31')\"\n",
              "              title=\"Convert this dataframe to an interactive table.\"\n",
              "              style=\"display:none;\">\n",
              "        \n",
              "  <svg xmlns=\"http://www.w3.org/2000/svg\" height=\"24px\"viewBox=\"0 0 24 24\"\n",
              "       width=\"24px\">\n",
              "    <path d=\"M0 0h24v24H0V0z\" fill=\"none\"/>\n",
              "    <path d=\"M18.56 5.44l.94 2.06.94-2.06 2.06-.94-2.06-.94-.94-2.06-.94 2.06-2.06.94zm-11 1L8.5 8.5l.94-2.06 2.06-.94-2.06-.94L8.5 2.5l-.94 2.06-2.06.94zm10 10l.94 2.06.94-2.06 2.06-.94-2.06-.94-.94-2.06-.94 2.06-2.06.94z\"/><path d=\"M17.41 7.96l-1.37-1.37c-.4-.4-.92-.59-1.43-.59-.52 0-1.04.2-1.43.59L10.3 9.45l-7.72 7.72c-.78.78-.78 2.05 0 2.83L4 21.41c.39.39.9.59 1.41.59.51 0 1.02-.2 1.41-.59l7.78-7.78 2.81-2.81c.8-.78.8-2.07 0-2.86zM5.41 20L4 18.59l7.72-7.72 1.47 1.35L5.41 20z\"/>\n",
              "  </svg>\n",
              "      </button>\n",
              "      \n",
              "  <style>\n",
              "    .colab-df-container {\n",
              "      display:flex;\n",
              "      flex-wrap:wrap;\n",
              "      gap: 12px;\n",
              "    }\n",
              "\n",
              "    .colab-df-convert {\n",
              "      background-color: #E8F0FE;\n",
              "      border: none;\n",
              "      border-radius: 50%;\n",
              "      cursor: pointer;\n",
              "      display: none;\n",
              "      fill: #1967D2;\n",
              "      height: 32px;\n",
              "      padding: 0 0 0 0;\n",
              "      width: 32px;\n",
              "    }\n",
              "\n",
              "    .colab-df-convert:hover {\n",
              "      background-color: #E2EBFA;\n",
              "      box-shadow: 0px 1px 2px rgba(60, 64, 67, 0.3), 0px 1px 3px 1px rgba(60, 64, 67, 0.15);\n",
              "      fill: #174EA6;\n",
              "    }\n",
              "\n",
              "    [theme=dark] .colab-df-convert {\n",
              "      background-color: #3B4455;\n",
              "      fill: #D2E3FC;\n",
              "    }\n",
              "\n",
              "    [theme=dark] .colab-df-convert:hover {\n",
              "      background-color: #434B5C;\n",
              "      box-shadow: 0px 1px 3px 1px rgba(0, 0, 0, 0.15);\n",
              "      filter: drop-shadow(0px 1px 2px rgba(0, 0, 0, 0.3));\n",
              "      fill: #FFFFFF;\n",
              "    }\n",
              "  </style>\n",
              "\n",
              "      <script>\n",
              "        const buttonEl =\n",
              "          document.querySelector('#df-0844651e-be22-4a55-bc90-6086adae3b31 button.colab-df-convert');\n",
              "        buttonEl.style.display =\n",
              "          google.colab.kernel.accessAllowed ? 'block' : 'none';\n",
              "\n",
              "        async function convertToInteractive(key) {\n",
              "          const element = document.querySelector('#df-0844651e-be22-4a55-bc90-6086adae3b31');\n",
              "          const dataTable =\n",
              "            await google.colab.kernel.invokeFunction('convertToInteractive',\n",
              "                                                     [key], {});\n",
              "          if (!dataTable) return;\n",
              "\n",
              "          const docLinkHtml = 'Like what you see? Visit the ' +\n",
              "            '<a target=\"_blank\" href=https://colab.research.google.com/notebooks/data_table.ipynb>data table notebook</a>'\n",
              "            + ' to learn more about interactive tables.';\n",
              "          element.innerHTML = '';\n",
              "          dataTable['output_type'] = 'display_data';\n",
              "          await google.colab.output.renderOutput(dataTable, element);\n",
              "          const docLink = document.createElement('div');\n",
              "          docLink.innerHTML = docLinkHtml;\n",
              "          element.appendChild(docLink);\n",
              "        }\n",
              "      </script>\n",
              "    </div>\n",
              "  </div>\n",
              "  "
            ],
            "application/vnd.google.colaboratory.module+javascript": "\n      import \"https://ssl.gstatic.com/colaboratory/data_table/a8bd4d5e58f96183/data_table.js\";\n\n      window.createDataTable({\n        data: [[\"basic materials\",\n{\n            'v': 0.1083,\n            'f': \"0.1083\",\n        },\n{\n            'v': 0.1197,\n            'f': \"0.1197\",\n        },\n{\n            'v': 0.1225,\n            'f': \"0.1225\",\n        },\n{\n            'v': 36.0767,\n            'f': \"36.0767\",\n        }],\n [\"consumer discretionary\",\n{\n            'v': 0.038,\n            'f': \"0.038\",\n        },\n{\n            'v': 0.0404,\n            'f': \"0.0404\",\n        },\n{\n            'v': 0.0586,\n            'f': \"0.0586\",\n        },\n{\n            'v': 137.8817,\n            'f': \"137.8817\",\n        }],\n [\"consumer staples\",\n{\n            'v': 0.0717,\n            'f': \"0.0717\",\n        },\n{\n            'v': 0.0745,\n            'f': \"0.0745\",\n        },\n{\n            'v': 0.1061,\n            'f': \"0.1061\",\n        },\n{\n            'v': 130.2375,\n            'f': \"130.2375\",\n        }],\n [\"energy\",\n{\n            'v': 0.1205,\n            'f': \"0.1205\",\n        },\n{\n            'v': 0.1521,\n            'f': \"0.1521\",\n        },\n{\n            'v': 0.1615,\n            'f': \"0.1615\",\n        },\n{\n            'v': 50.1158,\n            'f': \"50.1158\",\n        }],\n [\"financials\",\n{\n            'v': 0.0468,\n            'f': \"0.0468\",\n        },\n{\n            'v': 0.0606,\n            'f': \"0.0606\",\n        },\n{\n            'v': 0.0683,\n            'f': \"0.0683\",\n        },\n{\n            'v': 149.2779,\n            'f': \"149.2779\",\n        }],\n [\"health care\",\n{\n            'v': 0.056,\n            'f': \"0.056\",\n        },\n{\n            'v': 0.0955,\n            'f': \"0.0955\",\n        },\n{\n            'v': 0.1203,\n            'f': \"0.1203\",\n        },\n{\n            'v': 293.0879,\n            'f': \"293.0879\",\n        }],\n [\"industrials\",\n{\n            'v': 0.0503,\n            'f': \"0.0503\",\n        },\n{\n            'v': 0.0675,\n            'f': \"0.0675\",\n        },\n{\n            'v': 0.0849,\n            'f': \"0.0849\",\n        },\n{\n            'v': 469.2954,\n            'f': \"469.2954\",\n        }],\n [\"real estate\",\n{\n            'v': 0.0295,\n            'f': \"0.0295\",\n        },\n{\n            'v': 0.0458,\n            'f': \"0.0458\",\n        },\n{\n            'v': 0.0546,\n            'f': \"0.0546\",\n        },\n{\n            'v': 113.8408,\n            'f': \"113.8408\",\n        }],\n [\"technology\",\n{\n            'v': 0.0059,\n            'f': \"0.0059\",\n        },\n{\n            'v': 0.0096,\n            'f': \"0.0096\",\n        },\n{\n            'v': 0.0908,\n            'f': \"0.0908\",\n        },\n{\n            'v': 1535.3566,\n            'f': \"1535.3566\",\n        }],\n [\"telecommunications\",\n{\n            'v': 0.0938,\n            'f': \"0.0938\",\n        },\n{\n            'v': 0.0913,\n            'f': \"0.0913\",\n        },\n{\n            'v': 0.1083,\n            'f': \"0.1083\",\n        },\n{\n            'v': 32.8967,\n            'f': \"32.8967\",\n        }],\n [\"utilities\",\n{\n            'v': 0.0366,\n            'f': \"0.0366\",\n        },\n{\n            'v': 0.043,\n            'f': \"0.043\",\n        },\n{\n            'v': 0.0491,\n            'f': \"0.0491\",\n        },\n{\n            'v': 39.0444,\n            'f': \"39.0444\",\n        }]],\n        columns: [[\"string\", \"FTSE industry\"], [\"number\", \"2019\"], [\"number\", \"2020\"], [\"number\", \"2021\"], [\"number\", \"change\"]],\n        columnOptions: [{\"width\": \"1px\", \"className\": \"index_column\"}],\n        rowsPerPage: 25,\n        helpUrl: \"https://colab.research.google.com/notebooks/data_table.ipynb\",\n        suppressOutputScrolling: true,\n        minimumWidth: undefined,\n      });\n    "
          },
          "metadata": {},
          "execution_count": 14
        }
      ]
    },
    {
      "cell_type": "code",
      "source": [
        "data_time_series = data.drop(columns=['change', 'Company'])"
      ],
      "metadata": {
        "id": "2u1luD2cPV9h"
      },
      "execution_count": 15,
      "outputs": []
    },
    {
      "cell_type": "code",
      "source": [
        "data_time_series = pd.melt(data, id_vars=['Company_name','FTSE industry'], value_vars=['2019', '2020', '2021'], var_name=\"Year\", value_name=\"Value\")"
      ],
      "metadata": {
        "id": "JWJIvKGeOaof"
      },
      "execution_count": 16,
      "outputs": []
    },
    {
      "cell_type": "code",
      "source": [
        "f, ax = plt.subplots(figsize=(18, 12))\n",
        "sns.barplot(x=\"Year\", y=\"Value\",\n",
        "             hue=\"FTSE industry\",\n",
        "             data=data_time_series, ci=None).set(title='Evolution through the years')"
      ],
      "metadata": {
        "colab": {
          "base_uri": "https://localhost:8080/",
          "height": 754
        },
        "id": "IK7G8ybnOMXQ",
        "outputId": "e3236bd0-3c68-46c9-f787-07b9da2e7fca"
      },
      "execution_count": 17,
      "outputs": [
        {
          "output_type": "execute_result",
          "data": {
            "text/plain": [
              "[Text(0.5, 1.0, 'Evolution through the years')]"
            ]
          },
          "metadata": {},
          "execution_count": 17
        },
        {
          "output_type": "display_data",
          "data": {
            "text/plain": [
              "<Figure size 1296x864 with 1 Axes>"
            ],
            "image/png": "[encoded data removed]"
          },
          "metadata": {}
        }
      ]
    },
    {
      "cell_type": "code",
      "source": [
        "f, ax = plt.subplots(figsize=(20, 10))\n",
        "sns.boxplot(x=\"Year\", y=\"Value\",\n",
        "             hue=\"FTSE industry\",\n",
        "             data=data_time_series).set(title='Evolution through the years')"
      ],
      "metadata": {
        "colab": {
          "base_uri": "https://localhost:8080/",
          "height": 645
        },
        "id": "wriMmc5yKGYX",
        "outputId": "2edd211a-e0b9-404c-a963-723e901ea188"
      },
      "execution_count": 23,
      "outputs": [
        {
          "output_type": "execute_result",
          "data": {
            "text/plain": [
              "[Text(0.5, 1.0, 'Evolution through the years')]"
            ]
          },
          "metadata": {},
          "execution_count": 23
        },
        {
          "output_type": "display_data",
          "data": {
            "text/plain": [
              "<Figure size 1440x720 with 1 Axes>"
            ],
            "image/png": "[encoded data removed]"
          },
          "metadata": {}
        }
      ]
    },
    {
      "cell_type": "code",
      "source": [
        "f, ax = plt.subplots(figsize=(20, 10))\n",
        "sns.barplot(data=data, x=\"FTSE industry\", y=\"change\",ci=None).set(title='Average change between 2019 and 2021')"
      ],
      "metadata": {
        "colab": {
          "base_uri": "https://localhost:8080/",
          "height": 645
        },
        "id": "5t5YX4JqUD-M",
        "outputId": "0f7f9052-8d58-4e22-9773-783954eb632e"
      },
      "execution_count": 19,
      "outputs": [
        {
          "output_type": "execute_result",
          "data": {
            "text/plain": [
              "[Text(0.5, 1.0, 'Average change between 2019 and 2021')]"
            ]
          },
          "metadata": {},
          "execution_count": 19
        },
        {
          "output_type": "display_data",
          "data": {
            "text/plain": [
              "<Figure size 1440x720 with 1 Axes>"
            ],
            "image/png": "[encoded data removed]"
          },
          "metadata": {}
        }
      ]
    },
    {
      "cell_type": "code",
      "source": [
        "#path = '/content/drive/My Drive/Research Papers/Climate_2022/detailed_results_b_'\n",
        "#time_string = time.strftime(\"%m_%d_%Y-%H_%M_%S\", time.localtime())\n",
        "#data.to_csv(path+time_string+'.csv')"
      ],
      "metadata": {
        "id": "CkL3h2P_lz-4"
      },
      "execution_count": 20,
      "outputs": []
    }
  ]
}