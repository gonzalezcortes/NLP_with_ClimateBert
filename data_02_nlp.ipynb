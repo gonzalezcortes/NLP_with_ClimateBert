{
  "nbformat": 4,
  "nbformat_minor": 0,
  "metadata": {
    "colab": {
      "provenance": [],
      "collapsed_sections": [],
      "authorship_tag": "ABX9TyPRLgxfwsjmhtwpwWcUmZ9G",
      "include_colab_link": true
    },
    "kernelspec": {
      "name": "python3",
      "display_name": "Python 3"
    },
    "language_info": {
      "name": "python"
    },
    "gpuClass": "standard",
    "accelerator": "GPU"
  },
  "cells": [
    {
      "cell_type": "markdown",
      "metadata": {
        "id": "view-in-github",
        "colab_type": "text"
      },
      "source": [
        "<a href=\"https://colab.research.google.com/github/gonzalezcortes/NLP_with_ClimateBert/blob/main/data_02_nlp.ipynb\" target=\"_parent\"><img src=\"https://colab.research.google.com/assets/colab-badge.svg\" alt=\"Open In Colab\"/></a>"
      ]
    },
    {
      "cell_type": "markdown",
      "source": [
        "##Libraries"
      ],
      "metadata": {
        "id": "c2W1S7YnKr5i"
      }
    },
    {
      "cell_type": "code",
      "source": [
        "import numpy as np\n",
        "import pandas as pd\n",
        "import os\n",
        "import json\n",
        "import time"
      ],
      "metadata": {
        "id": "996dSBYHMz3l"
      },
      "execution_count": null,
      "outputs": []
    },
    {
      "cell_type": "code",
      "source": [
        "from google.colab import drive\n",
        "drive.mount('/content/drive')"
      ],
      "metadata": {
        "id": "VW3HkdOdNCuB",
        "colab": {
          "base_uri": "https://localhost:8080/"
        },
        "outputId": "f342d46a-7ffd-4ee3-dc8b-13ca254acc01"
      },
      "execution_count": null,
      "outputs": [
        {
          "output_type": "stream",
          "name": "stdout",
          "text": [
            "Mounted at /content/drive\n"
          ]
        }
      ]
    },
    {
      "cell_type": "code",
      "source": [
        "directory = '/content/drive/My Drive/Research Papers/Climate_2022/Reports/'\n",
        "output_folder_path = '/content/drive/My Drive/Research Papers/Climate_2022/Output Files2/'"
      ],
      "metadata": {
        "id": "PTJR-3PfNG00"
      },
      "execution_count": null,
      "outputs": []
    },
    {
      "cell_type": "markdown",
      "source": [
        "### NLP"
      ],
      "metadata": {
        "id": "vjJu_fP3MjDp"
      }
    },
    {
      "cell_type": "code",
      "execution_count": null,
      "metadata": {
        "id": "da6gfql2Kfvn"
      },
      "outputs": [],
      "source": [
        "%%capture\n",
        "!pip install transformers"
      ]
    },
    {
      "cell_type": "code",
      "execution_count": null,
      "metadata": {
        "id": "35Mh9wKED03r"
      },
      "outputs": [],
      "source": [
        "%%capture\n",
        "from transformers import AutoTokenizer, AutoModelForSequenceClassification\n",
        "from transformers import TextClassificationPipeline\n",
        "model_name = \"climatebert/environmental-claims\"\n",
        "tokenizer = AutoTokenizer.from_pretrained(model_name)\n",
        "model = AutoModelForSequenceClassification.from_pretrained(model_name)"
      ]
    },
    {
      "cell_type": "code",
      "source": [
        "pipe = TextClassificationPipeline(model=model, tokenizer=tokenizer, max_length=512, truncation=True, device=0)#tokenizer_saved, padding=True, truncation=True)"
      ],
      "metadata": {
        "id": "qqm9IoADKjZp"
      },
      "execution_count": null,
      "outputs": []
    },
    {
      "cell_type": "markdown",
      "source": [
        "### Open JSON"
      ],
      "metadata": {
        "id": "Crd6HgVM0laX"
      }
    },
    {
      "cell_type": "code",
      "source": [
        "index = 0\n",
        "companies = []\n",
        "raw_array = []\n",
        "\n",
        "for name in os.listdir(output_folder_path):\n",
        "    index += 1\n",
        "    full_copied_path = output_folder_path + name\n",
        "    ff = open(full_copied_path)\n",
        "    dataf = json.load(ff)\n",
        "    co = dataf[0]['Company']\n",
        "    if co not in companies:\n",
        "        companies.append(co)\n",
        "    year = (name[-13:])[:4]\n",
        "    print(index, name, year)\n",
        "    for row in dataf:\n",
        "        textf = row['Text']\n",
        "        score_r = pipe(textf)\n",
        "        rowap = [row['Company'], textf, score_r[0]['label'], score_r[0]['score'], year]\n",
        "        raw_array.append(rowap)\n",
        "    \n",
        "print(len(companies), ' companies')"
      ],
      "metadata": {
        "colab": {
          "base_uri": "https://localhost:8080/"
        },
        "id": "tBzK3ZtneBmp",
        "outputId": "f1a88bc2-17fa-4174-f815-237a6547479d"
      },
      "execution_count": null,
      "outputs": [
        {
          "output_type": "stream",
          "name": "stdout",
          "text": [
            "1 imperial_esg_2021.pdf.json 2021\n"
          ]
        },
        {
          "output_type": "stream",
          "name": "stderr",
          "text": [
            "/usr/local/lib/python3.7/dist-packages/transformers/pipelines/base.py:1046: UserWarning: You seem to be using the pipelines sequentially on GPU. In order to maximize efficiency please use a dataset\n",
            "  UserWarning,\n"
          ]
        },
        {
          "output_type": "stream",
          "name": "stdout",
          "text": [
            "2 imperial_ar_2019.pdf.json 2019\n",
            "3 imperial_ar_2020.pdf.json 2020\n",
            "4 relx_ar_2020.pdf.json 2020\n",
            "5 relx_ar_2021.pdf.json 2021\n",
            "6 relx_ar_2019.pdf.json 2019\n",
            "7 persimmon_ar_2020.pdf.json 2020\n",
            "8 persimmon_ar_2021.pdf.json 2021\n",
            "9 persimmon_ar_2019.pdf.json 2019\n",
            "10 sc_ar_2019.pdf.json 2019\n",
            "11 sc_ar_2021.pdf.json 2021\n",
            "12 sc_ar_2020.pdf.json 2020\n",
            "13 sage_ar_2020.pdf.json 2020\n",
            "14 sage_ar_2021.pdf.json 2021\n",
            "15 sage_ar_2019.pdf.json 2019\n",
            "16 meggitt_ar_2021.pdf.json 2021\n",
            "17 meggitt_ar_2019.pdf.json 2019\n",
            "18 meggitt_ar_2020.pdf.json 2020\n",
            "19 lseg__2020.pdf.json 2020\n",
            "20 lseg__2021.pdf.json 2021\n",
            "21 lseg__2019.pdf.json 2019\n",
            "22 lseg_ar_2019.pdf.json 2019\n",
            "23 lseg_ar_2020.pdf.json 2020\n",
            "24 lseg_ar_2021.pdf.json 2021\n",
            "25 next_ar_2021.pdf.json 2021\n",
            "26 next_ar_2020.pdf.json 2020\n",
            "27 next_ar_2019.pdf.json 2019\n",
            "28 nw_bank_2019.pdf.json 2019\n",
            "29 nw_holdings_2019.pdf.json 2019\n",
            "30 nw_markets_2019.pdf.json 2019\n",
            "31 natwest_ar_2020.pdf.json 2020\n",
            "32 natwest_ar_2021.pdf.json 2021\n",
            "33 sse_ar_2020.pdf.json 2020\n",
            "34 sse_ar_2019.pdf.json 2019\n",
            "35 sse_ar_2021.pdf.json 2021\n",
            "36 wpp_ar_2019.pdf.json 2019\n",
            "37 wpp_ar_2020.pdf.json 2020\n",
            "38 wpp_ar_2021.pdf.json 2021\n",
            "39 whitbread_ar_2021.pdf.json 2021\n",
            "40 whitbread_ar_2019.pdf.json 2019\n",
            "41 whitbread_ar_2020.pdf.json 2020\n",
            "42 smithds_ar_2019.pdf.json 2019\n",
            "43 smithds_ar_2020.pdf.json 2020\n",
            "44 smithds_ar_2021.pdf.json 2021\n",
            "45 unilever_ar_2019.pdf.json 2019\n",
            "46 unilever_ar_2021.pdf.json 2021\n",
            "47 unilever_ar_2020.pdf.json 2020\n",
            "48 mondi_ar_2019.pdf.json 2019\n",
            "49 mondi_ar_2020.pdf.json 2020\n",
            "50 mondi_ar_2021.pdf.json 2021\n",
            "51 rds_ar_2021.pdf.json 2021\n",
            "52 rds_ar_2019.pdf.json 2019\n",
            "53 rds_ar_2020.pdf.json 2020\n",
            "54 rento_ar_2021.pdf.json 2021\n",
            "55 rento_ar_2020.pdf.json 2020\n",
            "56 rento_ar_2019.pdf.json 2019\n",
            "57 sjp_ar_2021.pdf.json 2021\n",
            "58 sjp_ar_2020.pdf.json 2020\n",
            "59 sjp_ar_2019.pdf.json 2019\n",
            "60 melrose_ar_2019.pdf.json 2019\n",
            "61 melrose_ar_2021.pdf.json 2021\n",
            "62 melrose_ar_2020.pdf.json 2020\n",
            "63 reckitt_ar_2021.pdf.json 2021\n",
            "64 reckitt_ar_2020.pdf.json 2020\n",
            "65 reckitt_ar_2019.pdf.json 2019\n",
            "66 lloyds_esg_2020.pdf.json 2020\n",
            "67 lloyds_climate_2021.pdf.json 2021\n",
            "68 lloyds_esg_2021.pdf.json 2021\n",
            "69 lloyds_rr_2019.pdf.json 2019\n",
            "70 lloyds_ar_2020.pdf.json 2020\n",
            "71 lloyds_ar_2019.pdf.json 2019\n",
            "72 lloyds_ar_2021.pdf.json 2021\n",
            "73 rm_ar_2021.pdf.json 2021\n",
            "74 rm_ar_2019.pdf.json 2019\n",
            "75 rm_ar_2020.pdf.json 2020\n",
            "76 kingfisher_ar_2019.pdf.json 2019\n",
            "77 kingfisher_ar_2020.pdf.json 2020\n",
            "78 kingfisher_ar_2021.pdf.json 2021\n",
            "79 kingfisher_rr_2021.pdf.json 2021\n",
            "80 kingfisher__2019.pdf.json 2019\n",
            "81 kingfisher_rr_2020.pdf.json 2020\n",
            "82 intermediate_ar_2020.pdf.json 2020\n",
            "83 intermediate_esg_2019.pdf.json 2019\n",
            "84 intermediate_esg_2020.pdf.json 2020\n",
            "85 intermediate_ar_2019.pdf.json 2019\n",
            "86 intermediate__2021.pdf.json 2021\n",
            "87 intermediate_ar_2021.pdf.json 2021\n",
            "88 smiths_ar_2020.pdf.json 2020\n",
            "89 smiths_ar_2019.pdf.json 2019\n",
            "90 smiths_ar_2021.pdf.json 2021\n",
            "91 segro_ar_2021.pdf.json 2021\n",
            "92 segro_ar_2019.pdf.json 2019\n",
            "93 segro_ar_2020.pdf.json 2020\n",
            "94 rolls_ar_2019.pdf.json 2019\n",
            "95 rolls_ar_2020.pdf.json 2020\n",
            "96 rolls_ar_2021.pdf.json 2021\n",
            "97 pershing_ar_2019.pdf.json 2019\n",
            "98 pershing_ar_2021.pdf.json 2021\n",
            "99 pershing_ar_2020.pdf.json 2020\n",
            "100 intercontinental_ar_2019.pdf.json 2019\n",
            "101 intercontinental_ar_2020.pdf.json 2020\n",
            "102 intercontinental_ar_2021.pdf.json 2021\n",
            "103 intercontinental_rr_2019.pdf.json 2019\n",
            "104 land__2020.pdf.json 2020\n",
            "105 land__2021.pdf.json 2021\n",
            "106 land__2019.pdf.json 2019\n",
            "107 land_ar_2019.pdf.json 2019\n",
            "108 land_ar_2021.pdf.json 2021\n",
            "109 land_ar_2020.pdf.json 2020\n",
            "110 mng_ar_2020.pdf.json 2020\n",
            "111 mng_ar_2019.pdf.json 2019\n",
            "112 mng_ar_2021.pdf.json 2021\n",
            "113 informa_ar_2020.pdf.json 2020\n",
            "114 informa__2019.pdf.json 2019\n",
            "115 informa_ar_2021.pdf.json 2021\n",
            "116 informa__2020.pdf.json 2020\n",
            "117 informa_ar_2019.pdf.json 2019\n",
            "118 informa__2021.pdf.json 2021\n",
            "119 ss_ar_2020.pdf.json 2020\n",
            "120 ss_ar_2019.pdf.json 2019\n",
            "121 ss_ar_2021.pdf.json 2021\n",
            "122 ocado_ar_2019.pdf.json 2019\n",
            "123 ocado_ar_2021.pdf.json 2021\n",
            "124 ocado_ar_2020.pdf.json 2020\n",
            "125 rt_ar_2020.pdf.json 2020\n",
            "126 rt_ar_2019.pdf.json 2019\n",
            "127 rt_ar_2021.pdf.json 2021\n",
            "128 intertek__2020.pdf.json 2020\n",
            "129 intertek_ar_2019.pdf.json 2019\n",
            "130 intertek__2019.pdf.json 2019\n",
            "131 intertek__2021.pdf.json 2021\n",
            "132 intertek_ar_2020.pdf.json 2020\n",
            "133 intertek_ar_2021.pdf.json 2021\n",
            "134 sm_ar_2021.pdf.json 2021\n",
            "135 sm_ar_2019.pdf.json 2019\n",
            "136 sm_ar_2020.pdf.json 2020\n",
            "137 tw_ar_2021.pdf.json 2021\n",
            "138 tw_ar_2019.pdf.json 2019\n",
            "139 tw_ar_2020.pdf.json 2020\n",
            "140 uu_ar_2019.pdf.json 2019\n",
            "141 uu_ar_2021.pdf.json 2021\n",
            "142 uu_ar_2020.pdf.json 2020\n",
            "143 vodafone_ar_2019.pdf.json 2019\n",
            "144 vodafone_ar_2020.pdf.json 2020\n",
            "145 vodafone_ar_2021.pdf.json 2021\n",
            "146 rmg_ar_2021.pdf.json 2021\n",
            "147 rmg_ar_2019.pdf.json 2019\n",
            "148 rmg_ar_2020.pdf.json 2020\n",
            "149 lng_TCFD_2019.pdf.json 2019\n",
            "150 lng_TCFD_2020.pdf.json 2020\n",
            "151 lng_ar_2020.pdf.json 2020\n",
            "152 lng_TCFD_2021.pdf.json 2021\n",
            "153 lng_ar_2021.pdf.json 2021\n",
            "154 lng_ar_2019.pdf.json 2019\n",
            "155 st_ar_2021.pdf.json 2021\n",
            "156 st_ar_2019.pdf.json 2019\n",
            "157 st_ar_2020.pdf.json 2020\n",
            "158 pm_ar_2021.pdf.json 2021\n",
            "159 pm_ar_2019.pdf.json 2019\n",
            "160 pm_ar_2020.pdf.json 2020\n",
            "161 jd_esg_2021.pdf.json 2021\n",
            "162 jd_ar_2021.pdf.json 2021\n",
            "163 jd_ar_2020.pdf.json 2020\n",
            "164 jd_ar_2019.pdf.json 2019\n",
            "165 international__2021.pdf.json 2021\n",
            "166 international__2020.pdf.json 2020\n",
            "167 international_ar_2019.pdf.json 2019\n",
            "168 international_ar_2021.pdf.json 2021\n",
            "169 international_ar_2020.pdf.json 2020\n",
            "170 sb_ar_2021.pdf.json 2021\n",
            "171 sb_ar_2019.pdf.json 2019\n",
            "172 sb_ar_2020.pdf.json 2020\n",
            "173 schroders_ar_2020.pdf.json 2020\n",
            "174 schroders_ar_2019.pdf.json 2019\n",
            "175 schroders_ar_2021.pdf.json 2021\n",
            "176 tesco_ar_2020.pdf.json 2020\n",
            "177 tesco_ar_2019.pdf.json 2019\n",
            "178 tesco_ar_2021.pdf.json 2021\n",
            "179 sk_ar_2021.pdf.json 2021\n",
            "180 sk_ar_2020.pdf.json 2020\n",
            "181 sk_ar_2019.pdf.json 2019\n",
            "182 pearson_ar_2019.pdf.json 2019\n",
            "183 pearson_ar_2020.pdf.json 2020\n",
            "184 pearson_ar_2021.pdf.json 2021\n",
            "185 admiral_csr_2019.pdf.json 2019\n",
            "186 admiral__2021.pdf.json 2021\n",
            "187 admiral__2020.pdf.json 2020\n",
            "188 abrdn_sustainability_2019.pdf.json 2019\n",
            "189 abrdn_TCFD_2020.pdf.json 2020\n",
            "190 abrdn_sustainability_2021.pdf.json 2021\n",
            "191 abrdn_TCFD_2021.pdf.json 2021\n",
            "192 abrdn_TCFD_2019.pdf.json 2019\n",
            "193 3i__2021.pdf.json 2021\n",
            "194 3i__2019.pdf.json 2019\n",
            "195 3i__2020.pdf.json 2020\n",
            "196 anglo__2020.pdf.json 2020\n",
            "197 anglo__2019.pdf.json 2019\n",
            "198 anglo__2021.pdf.json 2021\n",
            "199 antofagasta__2021.pdf.json 2021\n",
            "200 antofagasta__2019.pdf.json 2019\n",
            "201 antofagasta__2020.pdf.json 2020\n",
            "202 ashtead_RB_2019.pdf.json 2019\n",
            "203 ashtead_responsiblebusiness_2021.pdf.json 2021\n",
            "204 ashtead_RB_2020.pdf.json 2020\n",
            "205 abf__2021.pdf.json 2021\n",
            "206 abf__2020.pdf.json 2020\n",
            "207 abf__2019.pdf.json 2019\n",
            "208 astra__2020.pdf.json 2020\n",
            "209 astra__2019.pdf.json 2019\n",
            "210 astra__2021.pdf.json 2021\n",
            "211 auto_ar_2020.pdf.json 2020\n",
            "212 auto_ar_2019.pdf.json 2019\n",
            "213 auto__2021.pdf.json 2021\n",
            "214 avast_ar_2021.pdf.json 2021\n",
            "215 avast_ar_2020.pdf.json 2020\n",
            "216 avast_ar_2019.pdf.json 2019\n",
            "217 aveva__2021.pdf.json 2021\n",
            "218 aveva_ar_2020.pdf.json 2020\n",
            "219 aveva_ar_2019.pdf.json 2019\n",
            "220 aviva_TCFD_2019.pdf.json 2019\n",
            "221 aviva_TCFD_2020.pdf.json 2020\n",
            "222 aviva__2021.pdf.json 2021\n",
            "223 aviva_TCFD_2021.pdf.json 2021\n",
            "224 bnm_ar_2019.pdf.json 2019\n",
            "225 bnm_ar_2021.pdf.json 2021\n",
            "226 bnm_ar_2020.pdf.json 2020\n",
            "227 barclays_ESG_2019.pdf.json 2019\n",
            "228 barclays_ESG_2020.pdf.json 2020\n",
            "229 barclays_TCFD_2021.pdf.json 2021\n",
            "230 barratt_ar_2021.pdf.json 2021\n",
            "231 barratt_ar_2020.pdf.json 2020\n",
            "232 barratt_ar_2019.pdf.json 2019\n",
            "233 berkeley_ar_2020.pdf.json 2020\n",
            "234 berkeley_ar_2019.pdf.json 2019\n",
            "235 berkeley__2021.pdf.json 2021\n",
            "236 bhp_climatechange_2020.pdf.json 2020\n",
            "237 bhp_climatechange_2019.pdf.json 2019\n",
            "238 bhp_climate_2021.pdf.json 2021\n",
            "239 bhp_ar_2021.pdf.json 2021\n",
            "240 bp__2021.pdf.json 2021\n",
            "241 bp__2020.pdf.json 2020\n",
            "242 bp__2019.pdf.json 2019\n",
            "243 bat_esg_2020.pdf.json 2020\n",
            "244 bat_esg_2021.pdf.json 2021\n",
            "245 bat_esg_2019.pdf.json 2019\n",
            "246 bl__2021.pdf.json 2021\n",
            "247 bl__2019.pdf.json 2019\n",
            "248 bl__2020.pdf.json 2020\n",
            "249 bt__2021.pdf.json 2021\n",
            "250 bt__2020.pdf.json 2020\n",
            "251 bt__2019.pdf.json 2019\n",
            "252 bunzl__2020.pdf.json 2020\n",
            "253 bunzl__2021.pdf.json 2021\n",
            "254 bunzl__2019.pdf.json 2019\n",
            "255 burberry_ar_2020.pdf.json 2020\n",
            "256 burberry_ar_2019.pdf.json 2019\n",
            "257 burberry_esg_2021.pdf.json 2021\n",
            "258 burberry_ar_2021.pdf.json 2021\n",
            "259 coca_ar_2021.pdf.json 2021\n",
            "260 coca_ar_2020.pdf.json 2020\n",
            "261 coca_ar_2019.pdf.json 2019\n",
            "262 compass__2021.pdf.json 2021\n",
            "263 compass__2019.pdf.json 2019\n",
            "264 compass__2020.pdf.json 2020\n",
            "265 crh__2020.pdf.json 2020\n",
            "266 crh__2019.pdf.json 2019\n",
            "267 crh__2021.pdf.json 2021\n",
            "268 croda__2021.pdf.json 2021\n",
            "269 croda__2019.pdf.json 2019\n",
            "270 croda__2020.pdf.json 2020\n",
            "271 dcc__2021.pdf.json 2021\n",
            "272 dcc_ar_2020.pdf.json 2020\n",
            "273 dcc_ar_2019.pdf.json 2019\n",
            "274 diageo__2020.pdf.json 2020\n",
            "275 diageo__2019.pdf.json 2019\n",
            "276 diageo__2021.pdf.json 2021\n",
            "277 dechra__2019.pdf.json 2019\n",
            "278 dechra__2021.pdf.json 2021\n",
            "279 dechra__2020.pdf.json 2020\n",
            "280 entain_ar_2020.pdf.json 2020\n",
            "281 entain_ar_2019.pdf.json 2019\n",
            "282 entain__2021.pdf.json 2021\n",
            "283 rs_ar_2020.pdf.json 2020\n",
            "284 rs_ar_2021.pdf.json 2021\n",
            "285 rs_ar_2019.pdf.json 2019\n",
            "286 experian__2021.pdf.json 2021\n",
            "287 experian__2020.pdf.json 2020\n",
            "288 experian_ar_2019.pdf.json 2019\n",
            "289 gsk_esg_2020.pdf.json 2020\n",
            "290 gsk_esg_2019.pdf.json 2019\n",
            "291 gsk_esg_2021.pdf.json 2021\n",
            "292 gsk_ar_2021.pdf.json 2021\n",
            "293 gsk_ar_2020.pdf.json 2020\n",
            "294 gsk_ar_2019.pdf.json 2019\n",
            "295 glencore__2020.pdf.json 2020\n",
            "296 glencore__2019.pdf.json 2019\n",
            "297 glencore__2021.pdf.json 2021\n",
            "298 flutter_ar_2021.pdf.json 2021\n",
            "299 flutter_ar_2020.pdf.json 2020\n",
            "300 flutter_ar_2019.pdf.json 2019\n",
            "301 ferguson_cc_2019.pdf.json 2019\n",
            "302 ferguson_cc_2020.pdf.json 2020\n",
            "303 ferguson_esg_2021.pdf.json 2021\n",
            "304 ferguson_cc_2021.pdf.json 2021\n",
            "305 hl__2019.pdf.json 2019\n",
            "306 hl__2021.pdf.json 2021\n",
            "307 hl__2020.pdf.json 2020\n",
            "308 hikma_ar_2019.pdf.json 2019\n",
            "309 hikma__2020.pdf.json 2020\n",
            "310 hikma__2021.pdf.json 2021\n",
            "311 halma_ar_2019.pdf.json 2019\n",
            "312 halma_ar_2020.pdf.json 2020\n",
            "313 halma_ar_2021.pdf.json 2021\n",
            "314 hsbc_ar_2020.pdf.json 2020\n",
            "315 hsbc_esg_2019.pdf.json 2019\n",
            "316 hsbc_ar_2019.pdf.json 2019\n",
            "317 hsbc_ar_2021.pdf.json 2021\n",
            "318 snn_ar_2019.pdf.json 2019\n",
            "319 snn_ar_2020.pdf.json 2020\n",
            "320 snn_ar_2021.pdf.json 2021\n",
            "321 evraz__2021.pdf.json 2021\n",
            "322 evraz__2020.pdf.json 2020\n",
            "323 evraz__2019.pdf.json 2019\n",
            "324 fresnillo_ar_2020.pdf.json 2020\n",
            "325 fresnillo_ar_2019.pdf.json 2019\n",
            "326 fresnillo_ar_2021.pdf.json 2021\n",
            "327 itv_ar_2020.pdf.json 2020\n",
            "328 itv_ar_2019.pdf.json 2019\n",
            "329 itv_ar_2021.pdf.json 2021\n",
            "330 national_ar_2020.pdf.json 2020\n",
            "331 national_ar_2021.pdf.json 2021\n",
            "332 national_ar_2019.pdf.json 2019\n",
            "333 phoenix_ar_2019.pdf.json 2019\n",
            "334 phoenix_ar_2020.pdf.json 2020\n",
            "335 phoenix_ar_2021.pdf.json 2021\n",
            "336 prud_ar_2020.pdf.json 2020\n",
            "337 prud_ar_2021.pdf.json 2021\n",
            "338 prud_ar_2019.pdf.json 2019\n",
            "100  companies\n"
          ]
        }
      ]
    },
    {
      "cell_type": "code",
      "source": [
        "data = pd.DataFrame(raw_array, columns=['Company', 'Text', 'Label', 'Score', 'Year'])"
      ],
      "metadata": {
        "id": "c3gxNRQ0si9T"
      },
      "execution_count": null,
      "outputs": []
    },
    {
      "cell_type": "code",
      "source": [
        "data.head()"
      ],
      "metadata": {
        "colab": {
          "base_uri": "https://localhost:8080/",
          "height": 206
        },
        "id": "Dr70qAB76YFE",
        "outputId": "5c9fa393-41e2-49e4-d901-e8e5203a9a2d"
      },
      "execution_count": null,
      "outputs": [
        {
          "output_type": "execute_result",
          "data": {
            "text/plain": [
              "    Company                                               Text Label  \\\n",
              "0  imperial  SUSTAINABILITY PERFORMANCE SUMMARY 202116% DEC...    no   \n",
              "1  imperial  Our Sustainability Performance Summary details...   yes   \n",
              "2  imperial  Our  sustainability strategy is aligned with t...   yes   \n",
              "3  imperial  In  this document we also provide information ...    no   \n",
              "4  imperial  ENABLING  GROWTH &  CREA TING  VALUEMAINTAININ...    no   \n",
              "\n",
              "      Score  Year  \n",
              "0  0.997861  2021  \n",
              "1  0.848230  2021  \n",
              "2  0.988876  2021  \n",
              "3  0.984115  2021  \n",
              "4  0.995882  2021  "
            ],
            "text/html": [
              "\n",
              "  <div id=\"df-71a7b2aa-74be-43f5-9706-b582e514fdcf\">\n",
              "    <div class=\"colab-df-container\">\n",
              "      <div>\n",
              "<style scoped>\n",
              "    .dataframe tbody tr th:only-of-type {\n",
              "        vertical-align: middle;\n",
              "    }\n",
              "\n",
              "    .dataframe tbody tr th {\n",
              "        vertical-align: top;\n",
              "    }\n",
              "\n",
              "    .dataframe thead th {\n",
              "        text-align: right;\n",
              "    }\n",
              "</style>\n",
              "<table border=\"1\" class=\"dataframe\">\n",
              "  <thead>\n",
              "    <tr style=\"text-align: right;\">\n",
              "      <th></th>\n",
              "      <th>Company</th>\n",
              "      <th>Text</th>\n",
              "      <th>Label</th>\n",
              "      <th>Score</th>\n",
              "      <th>Year</th>\n",
              "    </tr>\n",
              "  </thead>\n",
              "  <tbody>\n",
              "    <tr>\n",
              "      <th>0</th>\n",
              "      <td>imperial</td>\n",
              "      <td>SUSTAINABILITY PERFORMANCE SUMMARY 202116% DEC...</td>\n",
              "      <td>no</td>\n",
              "      <td>0.997861</td>\n",
              "      <td>2021</td>\n",
              "    </tr>\n",
              "    <tr>\n",
              "      <th>1</th>\n",
              "      <td>imperial</td>\n",
              "      <td>Our Sustainability Performance Summary details...</td>\n",
              "      <td>yes</td>\n",
              "      <td>0.848230</td>\n",
              "      <td>2021</td>\n",
              "    </tr>\n",
              "    <tr>\n",
              "      <th>2</th>\n",
              "      <td>imperial</td>\n",
              "      <td>Our  sustainability strategy is aligned with t...</td>\n",
              "      <td>yes</td>\n",
              "      <td>0.988876</td>\n",
              "      <td>2021</td>\n",
              "    </tr>\n",
              "    <tr>\n",
              "      <th>3</th>\n",
              "      <td>imperial</td>\n",
              "      <td>In  this document we also provide information ...</td>\n",
              "      <td>no</td>\n",
              "      <td>0.984115</td>\n",
              "      <td>2021</td>\n",
              "    </tr>\n",
              "    <tr>\n",
              "      <th>4</th>\n",
              "      <td>imperial</td>\n",
              "      <td>ENABLING  GROWTH &amp;  CREA TING  VALUEMAINTAININ...</td>\n",
              "      <td>no</td>\n",
              "      <td>0.995882</td>\n",
              "      <td>2021</td>\n",
              "    </tr>\n",
              "  </tbody>\n",
              "</table>\n",
              "</div>\n",
              "      <button class=\"colab-df-convert\" onclick=\"convertToInteractive('df-71a7b2aa-74be-43f5-9706-b582e514fdcf')\"\n",
              "              title=\"Convert this dataframe to an interactive table.\"\n",
              "              style=\"display:none;\">\n",
              "        \n",
              "  <svg xmlns=\"http://www.w3.org/2000/svg\" height=\"24px\"viewBox=\"0 0 24 24\"\n",
              "       width=\"24px\">\n",
              "    <path d=\"M0 0h24v24H0V0z\" fill=\"none\"/>\n",
              "    <path d=\"M18.56 5.44l.94 2.06.94-2.06 2.06-.94-2.06-.94-.94-2.06-.94 2.06-2.06.94zm-11 1L8.5 8.5l.94-2.06 2.06-.94-2.06-.94L8.5 2.5l-.94 2.06-2.06.94zm10 10l.94 2.06.94-2.06 2.06-.94-2.06-.94-.94-2.06-.94 2.06-2.06.94z\"/><path d=\"M17.41 7.96l-1.37-1.37c-.4-.4-.92-.59-1.43-.59-.52 0-1.04.2-1.43.59L10.3 9.45l-7.72 7.72c-.78.78-.78 2.05 0 2.83L4 21.41c.39.39.9.59 1.41.59.51 0 1.02-.2 1.41-.59l7.78-7.78 2.81-2.81c.8-.78.8-2.07 0-2.86zM5.41 20L4 18.59l7.72-7.72 1.47 1.35L5.41 20z\"/>\n",
              "  </svg>\n",
              "      </button>\n",
              "      \n",
              "  <style>\n",
              "    .colab-df-container {\n",
              "      display:flex;\n",
              "      flex-wrap:wrap;\n",
              "      gap: 12px;\n",
              "    }\n",
              "\n",
              "    .colab-df-convert {\n",
              "      background-color: #E8F0FE;\n",
              "      border: none;\n",
              "      border-radius: 50%;\n",
              "      cursor: pointer;\n",
              "      display: none;\n",
              "      fill: #1967D2;\n",
              "      height: 32px;\n",
              "      padding: 0 0 0 0;\n",
              "      width: 32px;\n",
              "    }\n",
              "\n",
              "    .colab-df-convert:hover {\n",
              "      background-color: #E2EBFA;\n",
              "      box-shadow: 0px 1px 2px rgba(60, 64, 67, 0.3), 0px 1px 3px 1px rgba(60, 64, 67, 0.15);\n",
              "      fill: #174EA6;\n",
              "    }\n",
              "\n",
              "    [theme=dark] .colab-df-convert {\n",
              "      background-color: #3B4455;\n",
              "      fill: #D2E3FC;\n",
              "    }\n",
              "\n",
              "    [theme=dark] .colab-df-convert:hover {\n",
              "      background-color: #434B5C;\n",
              "      box-shadow: 0px 1px 3px 1px rgba(0, 0, 0, 0.15);\n",
              "      filter: drop-shadow(0px 1px 2px rgba(0, 0, 0, 0.3));\n",
              "      fill: #FFFFFF;\n",
              "    }\n",
              "  </style>\n",
              "\n",
              "      <script>\n",
              "        const buttonEl =\n",
              "          document.querySelector('#df-71a7b2aa-74be-43f5-9706-b582e514fdcf button.colab-df-convert');\n",
              "        buttonEl.style.display =\n",
              "          google.colab.kernel.accessAllowed ? 'block' : 'none';\n",
              "\n",
              "        async function convertToInteractive(key) {\n",
              "          const element = document.querySelector('#df-71a7b2aa-74be-43f5-9706-b582e514fdcf');\n",
              "          const dataTable =\n",
              "            await google.colab.kernel.invokeFunction('convertToInteractive',\n",
              "                                                     [key], {});\n",
              "          if (!dataTable) return;\n",
              "\n",
              "          const docLinkHtml = 'Like what you see? Visit the ' +\n",
              "            '<a target=\"_blank\" href=https://colab.research.google.com/notebooks/data_table.ipynb>data table notebook</a>'\n",
              "            + ' to learn more about interactive tables.';\n",
              "          element.innerHTML = '';\n",
              "          dataTable['output_type'] = 'display_data';\n",
              "          await google.colab.output.renderOutput(dataTable, element);\n",
              "          const docLink = document.createElement('div');\n",
              "          docLink.innerHTML = docLinkHtml;\n",
              "          element.appendChild(docLink);\n",
              "        }\n",
              "      </script>\n",
              "    </div>\n",
              "  </div>\n",
              "  "
            ]
          },
          "metadata": {},
          "execution_count": 10
        }
      ]
    },
    {
      "cell_type": "code",
      "source": [
        "len(data)"
      ],
      "metadata": {
        "colab": {
          "base_uri": "https://localhost:8080/"
        },
        "id": "Ofg01oDk-Ixq",
        "outputId": "3dd66233-c29f-4dda-9537-e0be15b628f7"
      },
      "execution_count": null,
      "outputs": [
        {
          "output_type": "execute_result",
          "data": {
            "text/plain": [
              "1016156"
            ]
          },
          "metadata": {},
          "execution_count": 11
        }
      ]
    },
    {
      "cell_type": "code",
      "source": [
        "companies = data['Company'].unique()"
      ],
      "metadata": {
        "id": "-d6OYXJHHzeA"
      },
      "execution_count": null,
      "outputs": []
    },
    {
      "cell_type": "code",
      "source": [
        "len(data['Company'].unique())"
      ],
      "metadata": {
        "colab": {
          "base_uri": "https://localhost:8080/"
        },
        "id": "yIb04L3zhY-C",
        "outputId": "cb19cd61-3177-4f2d-c949-dbcaebf632e2"
      },
      "execution_count": null,
      "outputs": [
        {
          "output_type": "execute_result",
          "data": {
            "text/plain": [
              "100"
            ]
          },
          "metadata": {},
          "execution_count": 26
        }
      ]
    },
    {
      "cell_type": "code",
      "source": [
        "path = '/content/drive/My Drive/Research Papers/Climate_2022/output'\n",
        "time_string = time.strftime(\"%m_%d_%Y-%H_%M_%S\", time.localtime())\n",
        "#data.to_csv(path+time_string+'.csv')\n",
        "data.to_pickle(path+time_string+'.pkl')"
      ],
      "metadata": {
        "id": "LqBAXSkjGqb8"
      },
      "execution_count": null,
      "outputs": []
    },
    {
      "cell_type": "code",
      "source": [],
      "metadata": {
        "id": "hCHqNpevjKzE"
      },
      "execution_count": null,
      "outputs": []
    }
  ]
}